{
 "cells": [
  {
   "cell_type": "code",
   "execution_count": 3,
   "metadata": {},
   "outputs": [],
   "source": [
    "import pandas as pd\n",
    "import numpy as np"
   ]
  },
  {
   "cell_type": "code",
   "execution_count": 4,
   "metadata": {},
   "outputs": [
    {
     "data": {
      "text/plain": [
       "(158525, 14)"
      ]
     },
     "execution_count": 4,
     "metadata": {},
     "output_type": "execute_result"
    }
   ],
   "source": [
    "#Reading the business csv\n",
    "business_dataFrame = pd.read_csv(\"/Users/saranggrover/Desktop/yelp-dataset/business.csv\")\n",
    "business_dataFrame.shape"
   ]
  },
  {
   "cell_type": "code",
   "execution_count": 5,
   "metadata": {},
   "outputs": [
    {
     "data": {
      "text/plain": [
       "(132752, 14)"
      ]
     },
     "execution_count": 5,
     "metadata": {},
     "output_type": "execute_result"
    }
   ],
   "source": [
    "#Few businesses have no categories and attributes. Dropping those businesses\n",
    "business_dataFrame = business_dataFrame.dropna(axis=0, subset=['categories','attributes'])\n",
    "business_dataFrame.shape"
   ]
  },
  {
   "cell_type": "code",
   "execution_count": 6,
   "metadata": {},
   "outputs": [
    {
     "data": {
      "text/plain": [
       "(52012, 14)"
      ]
     },
     "execution_count": 6,
     "metadata": {},
     "output_type": "execute_result"
    }
   ],
   "source": [
    "#The business file contains all kinds of different businesses. We are focused on a restaurant recommender system. \n",
    "#So filtering out the required categories\n",
    "\n",
    "relevantCategories = ['Food','Restaurants']\n",
    "testPattern = \"|\".join(relevantCategories)\n",
    "restaurant_dataFrame = business_dataFrame[business_dataFrame['categories'].str.contains(testPattern)]\n",
    "restaurant_dataFrame.shape"
   ]
  },
  {
   "cell_type": "code",
   "execution_count": 7,
   "metadata": {},
   "outputs": [
    {
     "data": {
      "text/html": [
       "<div>\n",
       "<style scoped>\n",
       "    .dataframe tbody tr th:only-of-type {\n",
       "        vertical-align: middle;\n",
       "    }\n",
       "\n",
       "    .dataframe tbody tr th {\n",
       "        vertical-align: top;\n",
       "    }\n",
       "\n",
       "    .dataframe thead th {\n",
       "        text-align: right;\n",
       "    }\n",
       "</style>\n",
       "<table border=\"1\" class=\"dataframe\">\n",
       "  <thead>\n",
       "    <tr style=\"text-align: right;\">\n",
       "      <th></th>\n",
       "      <th>address</th>\n",
       "      <th>attributes</th>\n",
       "      <th>business_id</th>\n",
       "      <th>categories</th>\n",
       "      <th>city</th>\n",
       "      <th>hours</th>\n",
       "      <th>is_open</th>\n",
       "      <th>latitude</th>\n",
       "      <th>longitude</th>\n",
       "      <th>name</th>\n",
       "      <th>postal_code</th>\n",
       "      <th>review_count</th>\n",
       "      <th>stars</th>\n",
       "      <th>state</th>\n",
       "    </tr>\n",
       "  </thead>\n",
       "  <tbody>\n",
       "    <tr>\n",
       "      <th>0</th>\n",
       "      <td>30 Eglinton Avenue W</td>\n",
       "      <td>{'RestaurantsReservations': 'True', 'GoodForMe...</td>\n",
       "      <td>QXAEGFB4oINsVuTFxEYKFQ</td>\n",
       "      <td>Specialty Food, Restaurants, Dim Sum, Imported...</td>\n",
       "      <td>Mississauga</td>\n",
       "      <td>{'Monday': '9:0-0:0', 'Tuesday': '9:0-0:0', 'W...</td>\n",
       "      <td>1</td>\n",
       "      <td>43.605499</td>\n",
       "      <td>-79.652289</td>\n",
       "      <td>Emerald Chinese Restaurant</td>\n",
       "      <td>L5R 3E7</td>\n",
       "      <td>128</td>\n",
       "      <td>2.5</td>\n",
       "      <td>ON</td>\n",
       "    </tr>\n",
       "    <tr>\n",
       "      <th>1</th>\n",
       "      <td>10110 Johnston Rd, Ste 15</td>\n",
       "      <td>{'GoodForKids': 'True', 'NoiseLevel': \"u'avera...</td>\n",
       "      <td>gnKjwL_1w79qoiV3IC_xQQ</td>\n",
       "      <td>Sushi Bars, Restaurants, Japanese</td>\n",
       "      <td>Charlotte</td>\n",
       "      <td>{'Monday': '17:30-21:30', 'Wednesday': '17:30-...</td>\n",
       "      <td>1</td>\n",
       "      <td>35.092564</td>\n",
       "      <td>-80.859132</td>\n",
       "      <td>Musashi Japanese Restaurant</td>\n",
       "      <td>28210</td>\n",
       "      <td>170</td>\n",
       "      <td>4.0</td>\n",
       "      <td>NC</td>\n",
       "    </tr>\n",
       "    <tr>\n",
       "      <th>9</th>\n",
       "      <td>2450 E Indian School Rd</td>\n",
       "      <td>{'RestaurantsTakeOut': 'True', 'BusinessParkin...</td>\n",
       "      <td>1Dfx3zM-rW4n-31KeC8sJg</td>\n",
       "      <td>Restaurants, Breakfast &amp; Brunch, Mexican, Taco...</td>\n",
       "      <td>Phoenix</td>\n",
       "      <td>{'Monday': '7:0-0:0', 'Tuesday': '7:0-0:0', 'W...</td>\n",
       "      <td>1</td>\n",
       "      <td>33.495194</td>\n",
       "      <td>-112.028588</td>\n",
       "      <td>Taco Bell</td>\n",
       "      <td>85016</td>\n",
       "      <td>18</td>\n",
       "      <td>3.0</td>\n",
       "      <td>AZ</td>\n",
       "    </tr>\n",
       "    <tr>\n",
       "      <th>11</th>\n",
       "      <td>5981 Andrews Rd</td>\n",
       "      <td>{'RestaurantsPriceRange2': '2', 'BusinessAccep...</td>\n",
       "      <td>fweCYi8FmbJXHCqLnwuk8w</td>\n",
       "      <td>Italian, Restaurants, Pizza, Chicken Wings</td>\n",
       "      <td>Mentor-on-the-Lake</td>\n",
       "      <td>{'Monday': '10:0-0:0', 'Tuesday': '10:0-0:0', ...</td>\n",
       "      <td>1</td>\n",
       "      <td>41.708520</td>\n",
       "      <td>-81.359556</td>\n",
       "      <td>Marco's Pizza</td>\n",
       "      <td>44060</td>\n",
       "      <td>16</td>\n",
       "      <td>4.0</td>\n",
       "      <td>OH</td>\n",
       "    </tr>\n",
       "    <tr>\n",
       "      <th>12</th>\n",
       "      <td>4145 Erie St</td>\n",
       "      <td>{'RestaurantsTakeOut': 'True', 'BusinessParkin...</td>\n",
       "      <td>-K4gAv8_vjx8-2BxkVeRkA</td>\n",
       "      <td>Bakeries, Food</td>\n",
       "      <td>Willoughby</td>\n",
       "      <td>{'Tuesday': '11:0-17:0', 'Wednesday': '11:0-17...</td>\n",
       "      <td>1</td>\n",
       "      <td>41.639860</td>\n",
       "      <td>-81.406396</td>\n",
       "      <td>Baby Cakes</td>\n",
       "      <td>44094</td>\n",
       "      <td>7</td>\n",
       "      <td>3.0</td>\n",
       "      <td>OH</td>\n",
       "    </tr>\n",
       "  </tbody>\n",
       "</table>\n",
       "</div>"
      ],
      "text/plain": [
       "                      address  \\\n",
       "0        30 Eglinton Avenue W   \n",
       "1   10110 Johnston Rd, Ste 15   \n",
       "9     2450 E Indian School Rd   \n",
       "11            5981 Andrews Rd   \n",
       "12               4145 Erie St   \n",
       "\n",
       "                                           attributes             business_id  \\\n",
       "0   {'RestaurantsReservations': 'True', 'GoodForMe...  QXAEGFB4oINsVuTFxEYKFQ   \n",
       "1   {'GoodForKids': 'True', 'NoiseLevel': \"u'avera...  gnKjwL_1w79qoiV3IC_xQQ   \n",
       "9   {'RestaurantsTakeOut': 'True', 'BusinessParkin...  1Dfx3zM-rW4n-31KeC8sJg   \n",
       "11  {'RestaurantsPriceRange2': '2', 'BusinessAccep...  fweCYi8FmbJXHCqLnwuk8w   \n",
       "12  {'RestaurantsTakeOut': 'True', 'BusinessParkin...  -K4gAv8_vjx8-2BxkVeRkA   \n",
       "\n",
       "                                           categories                city  \\\n",
       "0   Specialty Food, Restaurants, Dim Sum, Imported...         Mississauga   \n",
       "1                   Sushi Bars, Restaurants, Japanese           Charlotte   \n",
       "9   Restaurants, Breakfast & Brunch, Mexican, Taco...             Phoenix   \n",
       "11         Italian, Restaurants, Pizza, Chicken Wings  Mentor-on-the-Lake   \n",
       "12                                     Bakeries, Food          Willoughby   \n",
       "\n",
       "                                                hours  is_open   latitude  \\\n",
       "0   {'Monday': '9:0-0:0', 'Tuesday': '9:0-0:0', 'W...        1  43.605499   \n",
       "1   {'Monday': '17:30-21:30', 'Wednesday': '17:30-...        1  35.092564   \n",
       "9   {'Monday': '7:0-0:0', 'Tuesday': '7:0-0:0', 'W...        1  33.495194   \n",
       "11  {'Monday': '10:0-0:0', 'Tuesday': '10:0-0:0', ...        1  41.708520   \n",
       "12  {'Tuesday': '11:0-17:0', 'Wednesday': '11:0-17...        1  41.639860   \n",
       "\n",
       "     longitude                         name postal_code  review_count  stars  \\\n",
       "0   -79.652289   Emerald Chinese Restaurant     L5R 3E7           128    2.5   \n",
       "1   -80.859132  Musashi Japanese Restaurant       28210           170    4.0   \n",
       "9  -112.028588                    Taco Bell       85016            18    3.0   \n",
       "11  -81.359556                Marco's Pizza       44060            16    4.0   \n",
       "12  -81.406396                   Baby Cakes       44094             7    3.0   \n",
       "\n",
       "   state  \n",
       "0     ON  \n",
       "1     NC  \n",
       "9     AZ  \n",
       "11    OH  \n",
       "12    OH  "
      ]
     },
     "execution_count": 7,
     "metadata": {},
     "output_type": "execute_result"
    }
   ],
   "source": [
    "restaurant_dataFrame.head()"
   ]
  },
  {
   "cell_type": "code",
   "execution_count": 8,
   "metadata": {},
   "outputs": [
    {
     "name": "stderr",
     "output_type": "stream",
     "text": [
      "/anaconda3/lib/python3.6/site-packages/pandas/core/frame.py:3694: SettingWithCopyWarning: \n",
      "A value is trying to be set on a copy of a slice from a DataFrame\n",
      "\n",
      "See the caveats in the documentation: http://pandas.pydata.org/pandas-docs/stable/indexing.html#indexing-view-versus-copy\n",
      "  errors=errors)\n"
     ]
    }
   ],
   "source": [
    "#Dropping unnecessary columms from restaurants dataframe\n",
    "restaurant_dataFrame.drop(columns=[ 'is_open','address', 'hours',\n",
    "                                'review_count','latitude', 'longitude'], inplace=True)"
   ]
  },
  {
   "cell_type": "code",
   "execution_count": 17,
   "metadata": {},
   "outputs": [
    {
     "data": {
      "text/html": [
       "<div>\n",
       "<style scoped>\n",
       "    .dataframe tbody tr th:only-of-type {\n",
       "        vertical-align: middle;\n",
       "    }\n",
       "\n",
       "    .dataframe tbody tr th {\n",
       "        vertical-align: top;\n",
       "    }\n",
       "\n",
       "    .dataframe thead th {\n",
       "        text-align: right;\n",
       "    }\n",
       "</style>\n",
       "<table border=\"1\" class=\"dataframe\">\n",
       "  <thead>\n",
       "    <tr style=\"text-align: right;\">\n",
       "      <th></th>\n",
       "      <th>attributes</th>\n",
       "      <th>business_id</th>\n",
       "      <th>categories</th>\n",
       "      <th>city</th>\n",
       "      <th>name</th>\n",
       "      <th>postal_code</th>\n",
       "      <th>stars</th>\n",
       "      <th>state</th>\n",
       "    </tr>\n",
       "  </thead>\n",
       "  <tbody>\n",
       "    <tr>\n",
       "      <th>0</th>\n",
       "      <td>{'RestaurantsReservations': 'True', 'GoodForMe...</td>\n",
       "      <td>QXAEGFB4oINsVuTFxEYKFQ</td>\n",
       "      <td>Specialty Food, Restaurants, Dim Sum, Imported...</td>\n",
       "      <td>Mississauga</td>\n",
       "      <td>Emerald Chinese Restaurant</td>\n",
       "      <td>L5R 3E7</td>\n",
       "      <td>2.5</td>\n",
       "      <td>ON</td>\n",
       "    </tr>\n",
       "    <tr>\n",
       "      <th>1</th>\n",
       "      <td>{'GoodForKids': 'True', 'NoiseLevel': \"u'avera...</td>\n",
       "      <td>gnKjwL_1w79qoiV3IC_xQQ</td>\n",
       "      <td>Sushi Bars, Restaurants, Japanese</td>\n",
       "      <td>Charlotte</td>\n",
       "      <td>Musashi Japanese Restaurant</td>\n",
       "      <td>28210</td>\n",
       "      <td>4.0</td>\n",
       "      <td>NC</td>\n",
       "    </tr>\n",
       "    <tr>\n",
       "      <th>9</th>\n",
       "      <td>{'RestaurantsTakeOut': 'True', 'BusinessParkin...</td>\n",
       "      <td>1Dfx3zM-rW4n-31KeC8sJg</td>\n",
       "      <td>Restaurants, Breakfast &amp; Brunch, Mexican, Taco...</td>\n",
       "      <td>Phoenix</td>\n",
       "      <td>Taco Bell</td>\n",
       "      <td>85016</td>\n",
       "      <td>3.0</td>\n",
       "      <td>AZ</td>\n",
       "    </tr>\n",
       "    <tr>\n",
       "      <th>11</th>\n",
       "      <td>{'RestaurantsPriceRange2': '2', 'BusinessAccep...</td>\n",
       "      <td>fweCYi8FmbJXHCqLnwuk8w</td>\n",
       "      <td>Italian, Restaurants, Pizza, Chicken Wings</td>\n",
       "      <td>Mentor-on-the-Lake</td>\n",
       "      <td>Marco's Pizza</td>\n",
       "      <td>44060</td>\n",
       "      <td>4.0</td>\n",
       "      <td>OH</td>\n",
       "    </tr>\n",
       "    <tr>\n",
       "      <th>12</th>\n",
       "      <td>{'RestaurantsTakeOut': 'True', 'BusinessParkin...</td>\n",
       "      <td>-K4gAv8_vjx8-2BxkVeRkA</td>\n",
       "      <td>Bakeries, Food</td>\n",
       "      <td>Willoughby</td>\n",
       "      <td>Baby Cakes</td>\n",
       "      <td>44094</td>\n",
       "      <td>3.0</td>\n",
       "      <td>OH</td>\n",
       "    </tr>\n",
       "  </tbody>\n",
       "</table>\n",
       "</div>"
      ],
      "text/plain": [
       "                                           attributes             business_id  \\\n",
       "0   {'RestaurantsReservations': 'True', 'GoodForMe...  QXAEGFB4oINsVuTFxEYKFQ   \n",
       "1   {'GoodForKids': 'True', 'NoiseLevel': \"u'avera...  gnKjwL_1w79qoiV3IC_xQQ   \n",
       "9   {'RestaurantsTakeOut': 'True', 'BusinessParkin...  1Dfx3zM-rW4n-31KeC8sJg   \n",
       "11  {'RestaurantsPriceRange2': '2', 'BusinessAccep...  fweCYi8FmbJXHCqLnwuk8w   \n",
       "12  {'RestaurantsTakeOut': 'True', 'BusinessParkin...  -K4gAv8_vjx8-2BxkVeRkA   \n",
       "\n",
       "                                           categories                city  \\\n",
       "0   Specialty Food, Restaurants, Dim Sum, Imported...         Mississauga   \n",
       "1                   Sushi Bars, Restaurants, Japanese           Charlotte   \n",
       "9   Restaurants, Breakfast & Brunch, Mexican, Taco...             Phoenix   \n",
       "11         Italian, Restaurants, Pizza, Chicken Wings  Mentor-on-the-Lake   \n",
       "12                                     Bakeries, Food          Willoughby   \n",
       "\n",
       "                           name postal_code  stars state  \n",
       "0    Emerald Chinese Restaurant     L5R 3E7    2.5    ON  \n",
       "1   Musashi Japanese Restaurant       28210    4.0    NC  \n",
       "9                     Taco Bell       85016    3.0    AZ  \n",
       "11                Marco's Pizza       44060    4.0    OH  \n",
       "12                   Baby Cakes       44094    3.0    OH  "
      ]
     },
     "execution_count": 17,
     "metadata": {},
     "output_type": "execute_result"
    }
   ],
   "source": [
    "restaurant_dataFrame.head()"
   ]
  },
  {
   "cell_type": "code",
   "execution_count": 11,
   "metadata": {},
   "outputs": [
    {
     "name": "stderr",
     "output_type": "stream",
     "text": [
      "/anaconda3/lib/python3.6/site-packages/IPython/core/interactiveshell.py:2785: DtypeWarning: Columns (13) have mixed types. Specify dtype option on import or set low_memory=False.\n",
      "  interactivity=interactivity, compiler=compiler, result=result)\n"
     ]
    },
    {
     "data": {
      "text/plain": [
       "(1637138, 22)"
      ]
     },
     "execution_count": 11,
     "metadata": {},
     "output_type": "execute_result"
    }
   ],
   "source": [
    "#Reading the users file\n",
    "user_dataFrame = pd.read_csv(\"/Users/saranggrover/Desktop/yelp-dataset/users.csv\")\n",
    "user_dataFrame.shape"
   ]
  },
  {
   "cell_type": "code",
   "execution_count": 12,
   "metadata": {},
   "outputs": [
    {
     "data": {
      "text/html": [
       "<div>\n",
       "<style scoped>\n",
       "    .dataframe tbody tr th:only-of-type {\n",
       "        vertical-align: middle;\n",
       "    }\n",
       "\n",
       "    .dataframe tbody tr th {\n",
       "        vertical-align: top;\n",
       "    }\n",
       "\n",
       "    .dataframe thead th {\n",
       "        text-align: right;\n",
       "    }\n",
       "</style>\n",
       "<table border=\"1\" class=\"dataframe\">\n",
       "  <thead>\n",
       "    <tr style=\"text-align: right;\">\n",
       "      <th></th>\n",
       "      <th>average_stars</th>\n",
       "      <th>compliment_cool</th>\n",
       "      <th>compliment_cute</th>\n",
       "      <th>compliment_funny</th>\n",
       "      <th>compliment_hot</th>\n",
       "      <th>compliment_list</th>\n",
       "      <th>compliment_more</th>\n",
       "      <th>compliment_note</th>\n",
       "      <th>compliment_photos</th>\n",
       "      <th>compliment_plain</th>\n",
       "      <th>...</th>\n",
       "      <th>cool</th>\n",
       "      <th>elite</th>\n",
       "      <th>fans</th>\n",
       "      <th>friends</th>\n",
       "      <th>funny</th>\n",
       "      <th>name</th>\n",
       "      <th>review_count</th>\n",
       "      <th>useful</th>\n",
       "      <th>user_id</th>\n",
       "      <th>yelping_since</th>\n",
       "    </tr>\n",
       "  </thead>\n",
       "  <tbody>\n",
       "    <tr>\n",
       "      <th>0</th>\n",
       "      <td>4.03</td>\n",
       "      <td>1</td>\n",
       "      <td>0</td>\n",
       "      <td>1</td>\n",
       "      <td>2</td>\n",
       "      <td>0</td>\n",
       "      <td>0</td>\n",
       "      <td>1</td>\n",
       "      <td>0</td>\n",
       "      <td>1</td>\n",
       "      <td>...</td>\n",
       "      <td>25</td>\n",
       "      <td>2015,2016,2017</td>\n",
       "      <td>5</td>\n",
       "      <td>c78V-rj8NQcQjOI8KP3UEA, alRMgPcngYSCJ5naFRBz5g...</td>\n",
       "      <td>17</td>\n",
       "      <td>Rashmi</td>\n",
       "      <td>95</td>\n",
       "      <td>84</td>\n",
       "      <td>l6BmjZMeQD3rDxWUbiAiow</td>\n",
       "      <td>2013-10-08 23:11:33</td>\n",
       "    </tr>\n",
       "    <tr>\n",
       "      <th>1</th>\n",
       "      <td>3.63</td>\n",
       "      <td>1</td>\n",
       "      <td>0</td>\n",
       "      <td>1</td>\n",
       "      <td>1</td>\n",
       "      <td>0</td>\n",
       "      <td>0</td>\n",
       "      <td>0</td>\n",
       "      <td>0</td>\n",
       "      <td>0</td>\n",
       "      <td>...</td>\n",
       "      <td>16</td>\n",
       "      <td>NaN</td>\n",
       "      <td>4</td>\n",
       "      <td>kEBTgDvFX754S68FllfCaA, aB2DynOxNOJK9st2ZeGTPg...</td>\n",
       "      <td>22</td>\n",
       "      <td>Jenna</td>\n",
       "      <td>33</td>\n",
       "      <td>48</td>\n",
       "      <td>4XChL029mKr5hydo79Ljxg</td>\n",
       "      <td>2013-02-21 22:29:06</td>\n",
       "    </tr>\n",
       "    <tr>\n",
       "      <th>2</th>\n",
       "      <td>3.71</td>\n",
       "      <td>0</td>\n",
       "      <td>0</td>\n",
       "      <td>0</td>\n",
       "      <td>0</td>\n",
       "      <td>0</td>\n",
       "      <td>0</td>\n",
       "      <td>1</td>\n",
       "      <td>0</td>\n",
       "      <td>0</td>\n",
       "      <td>...</td>\n",
       "      <td>10</td>\n",
       "      <td>NaN</td>\n",
       "      <td>0</td>\n",
       "      <td>4N-HU_T32hLENLntsNKNBg, pSY2vwWLgWfGVAAiKQzMng...</td>\n",
       "      <td>8</td>\n",
       "      <td>David</td>\n",
       "      <td>16</td>\n",
       "      <td>28</td>\n",
       "      <td>bc8C_eETBWL0olvFSJJd0w</td>\n",
       "      <td>2013-10-04 00:16:10</td>\n",
       "    </tr>\n",
       "    <tr>\n",
       "      <th>3</th>\n",
       "      <td>4.85</td>\n",
       "      <td>0</td>\n",
       "      <td>0</td>\n",
       "      <td>0</td>\n",
       "      <td>1</td>\n",
       "      <td>0</td>\n",
       "      <td>0</td>\n",
       "      <td>0</td>\n",
       "      <td>0</td>\n",
       "      <td>2</td>\n",
       "      <td>...</td>\n",
       "      <td>14</td>\n",
       "      <td>NaN</td>\n",
       "      <td>5</td>\n",
       "      <td>RZ6wS38wnlXyj-OOdTzBxA, l5jxZh1KsgI8rMunm-GN6A...</td>\n",
       "      <td>4</td>\n",
       "      <td>Angela</td>\n",
       "      <td>17</td>\n",
       "      <td>30</td>\n",
       "      <td>dD0gZpBctWGdWo9WlGuhlA</td>\n",
       "      <td>2014-05-22 15:57:30</td>\n",
       "    </tr>\n",
       "    <tr>\n",
       "      <th>4</th>\n",
       "      <td>4.08</td>\n",
       "      <td>80</td>\n",
       "      <td>0</td>\n",
       "      <td>80</td>\n",
       "      <td>28</td>\n",
       "      <td>1</td>\n",
       "      <td>1</td>\n",
       "      <td>16</td>\n",
       "      <td>5</td>\n",
       "      <td>57</td>\n",
       "      <td>...</td>\n",
       "      <td>665</td>\n",
       "      <td>2015,2016,2017,2018</td>\n",
       "      <td>39</td>\n",
       "      <td>mbwrZ-RS76V1HoJ0bF_Geg, g64lOV39xSLRZO0aQQ6DeQ...</td>\n",
       "      <td>279</td>\n",
       "      <td>Nancy</td>\n",
       "      <td>361</td>\n",
       "      <td>1114</td>\n",
       "      <td>MM4RJAeH6yuaN8oZDSt0RA</td>\n",
       "      <td>2013-10-23 07:02:50</td>\n",
       "    </tr>\n",
       "  </tbody>\n",
       "</table>\n",
       "<p>5 rows × 22 columns</p>\n",
       "</div>"
      ],
      "text/plain": [
       "   average_stars  compliment_cool  compliment_cute  compliment_funny  \\\n",
       "0           4.03                1                0                 1   \n",
       "1           3.63                1                0                 1   \n",
       "2           3.71                0                0                 0   \n",
       "3           4.85                0                0                 0   \n",
       "4           4.08               80                0                80   \n",
       "\n",
       "   compliment_hot  compliment_list  compliment_more  compliment_note  \\\n",
       "0               2                0                0                1   \n",
       "1               1                0                0                0   \n",
       "2               0                0                0                1   \n",
       "3               1                0                0                0   \n",
       "4              28                1                1               16   \n",
       "\n",
       "   compliment_photos  compliment_plain         ...           cool  \\\n",
       "0                  0                 1         ...             25   \n",
       "1                  0                 0         ...             16   \n",
       "2                  0                 0         ...             10   \n",
       "3                  0                 2         ...             14   \n",
       "4                  5                57         ...            665   \n",
       "\n",
       "                 elite  fans  \\\n",
       "0       2015,2016,2017     5   \n",
       "1                  NaN     4   \n",
       "2                  NaN     0   \n",
       "3                  NaN     5   \n",
       "4  2015,2016,2017,2018    39   \n",
       "\n",
       "                                             friends  funny    name  \\\n",
       "0  c78V-rj8NQcQjOI8KP3UEA, alRMgPcngYSCJ5naFRBz5g...     17  Rashmi   \n",
       "1  kEBTgDvFX754S68FllfCaA, aB2DynOxNOJK9st2ZeGTPg...     22   Jenna   \n",
       "2  4N-HU_T32hLENLntsNKNBg, pSY2vwWLgWfGVAAiKQzMng...      8   David   \n",
       "3  RZ6wS38wnlXyj-OOdTzBxA, l5jxZh1KsgI8rMunm-GN6A...      4  Angela   \n",
       "4  mbwrZ-RS76V1HoJ0bF_Geg, g64lOV39xSLRZO0aQQ6DeQ...    279   Nancy   \n",
       "\n",
       "   review_count useful                 user_id        yelping_since  \n",
       "0            95     84  l6BmjZMeQD3rDxWUbiAiow  2013-10-08 23:11:33  \n",
       "1            33     48  4XChL029mKr5hydo79Ljxg  2013-02-21 22:29:06  \n",
       "2            16     28  bc8C_eETBWL0olvFSJJd0w  2013-10-04 00:16:10  \n",
       "3            17     30  dD0gZpBctWGdWo9WlGuhlA  2014-05-22 15:57:30  \n",
       "4           361   1114  MM4RJAeH6yuaN8oZDSt0RA  2013-10-23 07:02:50  \n",
       "\n",
       "[5 rows x 22 columns]"
      ]
     },
     "execution_count": 12,
     "metadata": {},
     "output_type": "execute_result"
    }
   ],
   "source": [
    "user_dataFrame.head()"
   ]
  },
  {
   "cell_type": "code",
   "execution_count": 13,
   "metadata": {},
   "outputs": [],
   "source": [
    "#Removing unnecessary columms from users dataframe\n",
    "user_dataFrame.drop(columns=['name','friends','compliment_cool', 'compliment_cute',\n",
    "                      'compliment_funny', 'compliment_hot', 'compliment_list',\n",
    "                      'compliment_more', 'compliment_note', 'compliment_photos',\n",
    "                     'compliment_plain', 'compliment_profile', 'compliment_writer', 'cool',\n",
    "                     'funny','review_count', 'useful'], inplace=True)"
   ]
  },
  {
   "cell_type": "code",
   "execution_count": 14,
   "metadata": {},
   "outputs": [],
   "source": [
    "def count_elite_years(row):\n",
    "    if not pd.isnull(row):\n",
    "        if ',' in str(row):\n",
    "            return len(row.split(\",\"))\n",
    "        else:\n",
    "            return 1  \n",
    "    else:\n",
    "        return 0"
   ]
  },
  {
   "cell_type": "code",
   "execution_count": 15,
   "metadata": {},
   "outputs": [],
   "source": [
    "user_dataFrame['elite'] = user_dataFrame['elite'].map(count_elite_years)"
   ]
  },
  {
   "cell_type": "code",
   "execution_count": 36,
   "metadata": {},
   "outputs": [
    {
     "data": {
      "text/html": [
       "<div>\n",
       "<style scoped>\n",
       "    .dataframe tbody tr th:only-of-type {\n",
       "        vertical-align: middle;\n",
       "    }\n",
       "\n",
       "    .dataframe tbody tr th {\n",
       "        vertical-align: top;\n",
       "    }\n",
       "\n",
       "    .dataframe thead th {\n",
       "        text-align: right;\n",
       "    }\n",
       "</style>\n",
       "<table border=\"1\" class=\"dataframe\">\n",
       "  <thead>\n",
       "    <tr style=\"text-align: right;\">\n",
       "      <th></th>\n",
       "      <th>average_stars</th>\n",
       "      <th>elite</th>\n",
       "      <th>fans</th>\n",
       "      <th>user_id</th>\n",
       "      <th>yelping_since</th>\n",
       "    </tr>\n",
       "  </thead>\n",
       "  <tbody>\n",
       "    <tr>\n",
       "      <th>0</th>\n",
       "      <td>4.03</td>\n",
       "      <td>3</td>\n",
       "      <td>5</td>\n",
       "      <td>l6BmjZMeQD3rDxWUbiAiow</td>\n",
       "      <td>2013-10-08 23:11:33</td>\n",
       "    </tr>\n",
       "    <tr>\n",
       "      <th>1</th>\n",
       "      <td>3.63</td>\n",
       "      <td>0</td>\n",
       "      <td>4</td>\n",
       "      <td>4XChL029mKr5hydo79Ljxg</td>\n",
       "      <td>2013-02-21 22:29:06</td>\n",
       "    </tr>\n",
       "    <tr>\n",
       "      <th>2</th>\n",
       "      <td>3.71</td>\n",
       "      <td>0</td>\n",
       "      <td>0</td>\n",
       "      <td>bc8C_eETBWL0olvFSJJd0w</td>\n",
       "      <td>2013-10-04 00:16:10</td>\n",
       "    </tr>\n",
       "    <tr>\n",
       "      <th>3</th>\n",
       "      <td>4.85</td>\n",
       "      <td>0</td>\n",
       "      <td>5</td>\n",
       "      <td>dD0gZpBctWGdWo9WlGuhlA</td>\n",
       "      <td>2014-05-22 15:57:30</td>\n",
       "    </tr>\n",
       "    <tr>\n",
       "      <th>4</th>\n",
       "      <td>4.08</td>\n",
       "      <td>4</td>\n",
       "      <td>39</td>\n",
       "      <td>MM4RJAeH6yuaN8oZDSt0RA</td>\n",
       "      <td>2013-10-23 07:02:50</td>\n",
       "    </tr>\n",
       "    <tr>\n",
       "      <th>5</th>\n",
       "      <td>4.20</td>\n",
       "      <td>4</td>\n",
       "      <td>186</td>\n",
       "      <td>0rK89TS8xqy1wI4nYI1wfw</td>\n",
       "      <td>2011-06-23 08:05:13</td>\n",
       "    </tr>\n",
       "    <tr>\n",
       "      <th>6</th>\n",
       "      <td>4.39</td>\n",
       "      <td>8</td>\n",
       "      <td>696</td>\n",
       "      <td>TEtzbpgA2BFBrC0y0sCbfw</td>\n",
       "      <td>2006-02-15 18:29:35</td>\n",
       "    </tr>\n",
       "    <tr>\n",
       "      <th>7</th>\n",
       "      <td>4.33</td>\n",
       "      <td>0</td>\n",
       "      <td>0</td>\n",
       "      <td>KGuqerdeNhxzXZEyBaqqSw</td>\n",
       "      <td>2014-06-07 01:50:09</td>\n",
       "    </tr>\n",
       "    <tr>\n",
       "      <th>8</th>\n",
       "      <td>4.21</td>\n",
       "      <td>7</td>\n",
       "      <td>57</td>\n",
       "      <td>T0gWkTHWRChVUe_Dn1F8nw</td>\n",
       "      <td>2005-07-20 22:38:17</td>\n",
       "    </tr>\n",
       "    <tr>\n",
       "      <th>9</th>\n",
       "      <td>4.53</td>\n",
       "      <td>0</td>\n",
       "      <td>15</td>\n",
       "      <td>NQffx45eJaeqhFcMadKUQA</td>\n",
       "      <td>2008-12-10 22:59:45</td>\n",
       "    </tr>\n",
       "  </tbody>\n",
       "</table>\n",
       "</div>"
      ],
      "text/plain": [
       "   average_stars  elite  fans                 user_id        yelping_since\n",
       "0           4.03      3     5  l6BmjZMeQD3rDxWUbiAiow  2013-10-08 23:11:33\n",
       "1           3.63      0     4  4XChL029mKr5hydo79Ljxg  2013-02-21 22:29:06\n",
       "2           3.71      0     0  bc8C_eETBWL0olvFSJJd0w  2013-10-04 00:16:10\n",
       "3           4.85      0     5  dD0gZpBctWGdWo9WlGuhlA  2014-05-22 15:57:30\n",
       "4           4.08      4    39  MM4RJAeH6yuaN8oZDSt0RA  2013-10-23 07:02:50\n",
       "5           4.20      4   186  0rK89TS8xqy1wI4nYI1wfw  2011-06-23 08:05:13\n",
       "6           4.39      8   696  TEtzbpgA2BFBrC0y0sCbfw  2006-02-15 18:29:35\n",
       "7           4.33      0     0  KGuqerdeNhxzXZEyBaqqSw  2014-06-07 01:50:09\n",
       "8           4.21      7    57  T0gWkTHWRChVUe_Dn1F8nw  2005-07-20 22:38:17\n",
       "9           4.53      0    15  NQffx45eJaeqhFcMadKUQA  2008-12-10 22:59:45"
      ]
     },
     "execution_count": 36,
     "metadata": {},
     "output_type": "execute_result"
    }
   ],
   "source": [
    "user_dataFrame.head(10)"
   ]
  },
  {
   "cell_type": "code",
   "execution_count": 18,
   "metadata": {},
   "outputs": [],
   "source": [
    "#Reading the reviews file\n",
    "reviews_dataFrame = pd.read_csv(\"/Users/saranggrover/Desktop/yelp-dataset/reviews.csv\")"
   ]
  },
  {
   "cell_type": "code",
   "execution_count": 19,
   "metadata": {},
   "outputs": [
    {
     "data": {
      "text/plain": [
       "(6685902, 9)"
      ]
     },
     "execution_count": 19,
     "metadata": {},
     "output_type": "execute_result"
    }
   ],
   "source": [
    "reviews_dataFrame.shape"
   ]
  },
  {
   "cell_type": "code",
   "execution_count": 20,
   "metadata": {},
   "outputs": [],
   "source": [
    "#Removing unnecessary columns and null values\n",
    "reviews_dataFrame.drop(columns=[\"cool\", \"funny\", \"useful\"], inplace=True)\n"
   ]
  },
  {
   "cell_type": "code",
   "execution_count": 21,
   "metadata": {},
   "outputs": [
    {
     "data": {
      "text/plain": [
       "False"
      ]
     },
     "execution_count": 21,
     "metadata": {},
     "output_type": "execute_result"
    }
   ],
   "source": [
    "reviews_dataFrame.dropna(axis=0, inplace=True)\n",
    "reviews_dataFrame.isnull().values.any()"
   ]
  },
  {
   "cell_type": "code",
   "execution_count": 22,
   "metadata": {},
   "outputs": [
    {
     "data": {
      "text/plain": [
       "(6685896, 6)"
      ]
     },
     "execution_count": 22,
     "metadata": {},
     "output_type": "execute_result"
    }
   ],
   "source": [
    "reviews_dataFrame.shape"
   ]
  },
  {
   "cell_type": "code",
   "execution_count": 31,
   "metadata": {},
   "outputs": [
    {
     "data": {
      "text/plain": [
       "(3875007, 6)"
      ]
     },
     "execution_count": 31,
     "metadata": {},
     "output_type": "execute_result"
    }
   ],
   "source": [
    "#Getting the restaurant ids from the restaurant dataframe and filtering the reviews data frame to contain reviews\n",
    "#only for those restaurants\n",
    "unique_restaurant_ids = restaurant_dataFrame['business_id'].values\n",
    "restaurant_reviews_dataFrame = reviews_dataFrame[reviews_dataFrame['business_id'].isin(unique_restaurant_ids)]\n",
    "restaurant_reviews_dataFrame.shape"
   ]
  },
  {
   "cell_type": "code",
   "execution_count": 32,
   "metadata": {},
   "outputs": [
    {
     "data": {
      "text/plain": [
       "True"
      ]
     },
     "execution_count": 32,
     "metadata": {},
     "output_type": "execute_result"
    }
   ],
   "source": [
    "#Checking if same user have multiple reviews for same restaurant\n",
    "np.any(restaurant_reviews_dataFrame.duplicated(subset=['user_id', 'business_id'], keep=False))"
   ]
  },
  {
   "cell_type": "code",
   "execution_count": 33,
   "metadata": {},
   "outputs": [
    {
     "data": {
      "text/plain": [
       "(3750809, 6)"
      ]
     },
     "execution_count": 33,
     "metadata": {},
     "output_type": "execute_result"
    }
   ],
   "source": [
    "#Keep the latest reviews for same user and restaurant\n",
    "restaurant_reviews_dataFrame = restaurant_reviews_dataFrame.sort_values('date').drop_duplicates(subset=['user_id', 'business_id'], keep='last')\n",
    "restaurant_reviews_dataFrame.shape\n"
   ]
  },
  {
   "cell_type": "code",
   "execution_count": 34,
   "metadata": {},
   "outputs": [
    {
     "data": {
      "text/plain": [
       "(1682153, 6)"
      ]
     },
     "execution_count": 34,
     "metadata": {},
     "output_type": "execute_result"
    }
   ],
   "source": [
    "#Filtering out users who have reviews less than 10\n",
    "restaurant_reviews_dataFrame= restaurant_reviews_dataFrame[restaurant_reviews_dataFrame.groupby(\"user_id\")[\"user_id\"].transform('count').ge(10)]\n",
    "restaurant_reviews_dataFrame.shape"
   ]
  },
  {
   "cell_type": "code",
   "execution_count": 39,
   "metadata": {},
   "outputs": [
    {
     "data": {
      "text/html": [
       "<div>\n",
       "<style scoped>\n",
       "    .dataframe tbody tr th:only-of-type {\n",
       "        vertical-align: middle;\n",
       "    }\n",
       "\n",
       "    .dataframe tbody tr th {\n",
       "        vertical-align: top;\n",
       "    }\n",
       "\n",
       "    .dataframe thead th {\n",
       "        text-align: right;\n",
       "    }\n",
       "</style>\n",
       "<table border=\"1\" class=\"dataframe\">\n",
       "  <thead>\n",
       "    <tr style=\"text-align: right;\">\n",
       "      <th></th>\n",
       "      <th>business_id</th>\n",
       "      <th>date</th>\n",
       "      <th>review_id</th>\n",
       "      <th>stars</th>\n",
       "      <th>text</th>\n",
       "      <th>user_id</th>\n",
       "    </tr>\n",
       "  </thead>\n",
       "  <tbody>\n",
       "    <tr>\n",
       "      <th>5345274</th>\n",
       "      <td>u8C8pRvaHXg3PgDrsUHJHQ</td>\n",
       "      <td>2004-10-19 19:24:13</td>\n",
       "      <td>0QHCY_55TFHHvyumEMpDew</td>\n",
       "      <td>4.0</td>\n",
       "      <td>Good stuff. Pricey by normal pizza standards.</td>\n",
       "      <td>nkN_do3fJ9xekchVC-v68A</td>\n",
       "    </tr>\n",
       "    <tr>\n",
       "      <th>6021460</th>\n",
       "      <td>EZOoB2D8uQHV_gJoGCMTxQ</td>\n",
       "      <td>2004-10-19 21:33:08</td>\n",
       "      <td>1Iobyi_7BkFON25Oegs0aw</td>\n",
       "      <td>4.0</td>\n",
       "      <td>Love their subs. Cheap and top shelf ingredients.</td>\n",
       "      <td>nkN_do3fJ9xekchVC-v68A</td>\n",
       "    </tr>\n",
       "    <tr>\n",
       "      <th>4665742</th>\n",
       "      <td>oYMsq2Xvzw6UbrIlMWjb-A</td>\n",
       "      <td>2004-10-19 21:34:40</td>\n",
       "      <td>2F5J51OYtD49eyIUKJKVgg</td>\n",
       "      <td>4.0</td>\n",
       "      <td>Love their pizza. They used to have a great ta...</td>\n",
       "      <td>nkN_do3fJ9xekchVC-v68A</td>\n",
       "    </tr>\n",
       "    <tr>\n",
       "      <th>3995487</th>\n",
       "      <td>ydUqgWsF3F27TbauOyib0w</td>\n",
       "      <td>2004-12-19 20:47:24</td>\n",
       "      <td>Ef1skKLKZ9izwBmreb_-qw</td>\n",
       "      <td>4.0</td>\n",
       "      <td>Frequently busy due to their great food, but t...</td>\n",
       "      <td>62GNFh5FySkA3MbrQmnqvg</td>\n",
       "    </tr>\n",
       "    <tr>\n",
       "      <th>6022580</th>\n",
       "      <td>VMPSdoBgJuyS9t_x_caTig</td>\n",
       "      <td>2005-03-03 19:49:39</td>\n",
       "      <td>39ukJIrbqD1Pk5V16B5weA</td>\n",
       "      <td>5.0</td>\n",
       "      <td>Easily my favorite place to eat in Madison.  G...</td>\n",
       "      <td>HLaSqQMDVvlcFPGJL_kGCA</td>\n",
       "    </tr>\n",
       "    <tr>\n",
       "      <th>1334196</th>\n",
       "      <td>GjkgXXicSJokejRge-g3xA</td>\n",
       "      <td>2005-03-03 19:55:42</td>\n",
       "      <td>t7BnB7AmrEdLsepxrAeCog</td>\n",
       "      <td>5.0</td>\n",
       "      <td>If the all the bars in Madison got together an...</td>\n",
       "      <td>HLaSqQMDVvlcFPGJL_kGCA</td>\n",
       "    </tr>\n",
       "    <tr>\n",
       "      <th>646913</th>\n",
       "      <td>xnY3_Tg5PjE_8n_bhwZu1Q</td>\n",
       "      <td>2005-03-03 20:46:21</td>\n",
       "      <td>A7zuhSlkOkTs1G6_hDniPg</td>\n",
       "      <td>4.0</td>\n",
       "      <td>Omelettes that have killed lesser men than me....</td>\n",
       "      <td>HLaSqQMDVvlcFPGJL_kGCA</td>\n",
       "    </tr>\n",
       "    <tr>\n",
       "      <th>5347975</th>\n",
       "      <td>C37hwsGUHn_3-il0ypeY-Q</td>\n",
       "      <td>2005-03-03 20:50:37</td>\n",
       "      <td>mglmQCiUpAVVYHbO62d87g</td>\n",
       "      <td>3.0</td>\n",
       "      <td>Nice little dive bar at the end of Willy St.  ...</td>\n",
       "      <td>HLaSqQMDVvlcFPGJL_kGCA</td>\n",
       "    </tr>\n",
       "    <tr>\n",
       "      <th>5352982</th>\n",
       "      <td>LZ_R2OLgZQSQMMzlp8uUOA</td>\n",
       "      <td>2005-03-04 15:37:00</td>\n",
       "      <td>YADzRq2fuu7Krlj6SfSFxA</td>\n",
       "      <td>4.0</td>\n",
       "      <td>Ideal lunch at Dotty's in downtown Madison: Sp...</td>\n",
       "      <td>HLaSqQMDVvlcFPGJL_kGCA</td>\n",
       "    </tr>\n",
       "    <tr>\n",
       "      <th>2011406</th>\n",
       "      <td>Z8SXv1u_6rKicQy9P7G6fw</td>\n",
       "      <td>2005-03-10 02:27:50</td>\n",
       "      <td>PhCDcT0pCHyExCObNMXxSg</td>\n",
       "      <td>5.0</td>\n",
       "      <td>it is awesome.  they make a pork burrito that ...</td>\n",
       "      <td>cT0xyr130ZUpEcj8L7Hjxw</td>\n",
       "    </tr>\n",
       "  </tbody>\n",
       "</table>\n",
       "</div>"
      ],
      "text/plain": [
       "                    business_id                 date               review_id  \\\n",
       "5345274  u8C8pRvaHXg3PgDrsUHJHQ  2004-10-19 19:24:13  0QHCY_55TFHHvyumEMpDew   \n",
       "6021460  EZOoB2D8uQHV_gJoGCMTxQ  2004-10-19 21:33:08  1Iobyi_7BkFON25Oegs0aw   \n",
       "4665742  oYMsq2Xvzw6UbrIlMWjb-A  2004-10-19 21:34:40  2F5J51OYtD49eyIUKJKVgg   \n",
       "3995487  ydUqgWsF3F27TbauOyib0w  2004-12-19 20:47:24  Ef1skKLKZ9izwBmreb_-qw   \n",
       "6022580  VMPSdoBgJuyS9t_x_caTig  2005-03-03 19:49:39  39ukJIrbqD1Pk5V16B5weA   \n",
       "1334196  GjkgXXicSJokejRge-g3xA  2005-03-03 19:55:42  t7BnB7AmrEdLsepxrAeCog   \n",
       "646913   xnY3_Tg5PjE_8n_bhwZu1Q  2005-03-03 20:46:21  A7zuhSlkOkTs1G6_hDniPg   \n",
       "5347975  C37hwsGUHn_3-il0ypeY-Q  2005-03-03 20:50:37  mglmQCiUpAVVYHbO62d87g   \n",
       "5352982  LZ_R2OLgZQSQMMzlp8uUOA  2005-03-04 15:37:00  YADzRq2fuu7Krlj6SfSFxA   \n",
       "2011406  Z8SXv1u_6rKicQy9P7G6fw  2005-03-10 02:27:50  PhCDcT0pCHyExCObNMXxSg   \n",
       "\n",
       "         stars                                               text  \\\n",
       "5345274    4.0      Good stuff. Pricey by normal pizza standards.   \n",
       "6021460    4.0  Love their subs. Cheap and top shelf ingredients.   \n",
       "4665742    4.0  Love their pizza. They used to have a great ta...   \n",
       "3995487    4.0  Frequently busy due to their great food, but t...   \n",
       "6022580    5.0  Easily my favorite place to eat in Madison.  G...   \n",
       "1334196    5.0  If the all the bars in Madison got together an...   \n",
       "646913     4.0  Omelettes that have killed lesser men than me....   \n",
       "5347975    3.0  Nice little dive bar at the end of Willy St.  ...   \n",
       "5352982    4.0  Ideal lunch at Dotty's in downtown Madison: Sp...   \n",
       "2011406    5.0  it is awesome.  they make a pork burrito that ...   \n",
       "\n",
       "                        user_id  \n",
       "5345274  nkN_do3fJ9xekchVC-v68A  \n",
       "6021460  nkN_do3fJ9xekchVC-v68A  \n",
       "4665742  nkN_do3fJ9xekchVC-v68A  \n",
       "3995487  62GNFh5FySkA3MbrQmnqvg  \n",
       "6022580  HLaSqQMDVvlcFPGJL_kGCA  \n",
       "1334196  HLaSqQMDVvlcFPGJL_kGCA  \n",
       "646913   HLaSqQMDVvlcFPGJL_kGCA  \n",
       "5347975  HLaSqQMDVvlcFPGJL_kGCA  \n",
       "5352982  HLaSqQMDVvlcFPGJL_kGCA  \n",
       "2011406  cT0xyr130ZUpEcj8L7Hjxw  "
      ]
     },
     "execution_count": 39,
     "metadata": {},
     "output_type": "execute_result"
    }
   ],
   "source": [
    "restaurant_reviews_dataFrame.head(10)"
   ]
  },
  {
   "cell_type": "code",
   "execution_count": 37,
   "metadata": {},
   "outputs": [
    {
     "data": {
      "text/plain": [
       "(1637138, 5)"
      ]
     },
     "execution_count": 37,
     "metadata": {},
     "output_type": "execute_result"
    }
   ],
   "source": [
    "user_dataFrame.shape"
   ]
  },
  {
   "cell_type": "code",
   "execution_count": 38,
   "metadata": {},
   "outputs": [
    {
     "data": {
      "text/plain": [
       "(64351, 5)"
      ]
     },
     "execution_count": 38,
     "metadata": {},
     "output_type": "execute_result"
    }
   ],
   "source": [
    "#Filtering out the users dataframe to contain only those users which have given reviews\n",
    "unique_user_ids = restaurant_reviews_dataFrame['user_id'].unique()\n",
    "user_dataFrame = user_dataFrame[user_dataFrame['user_id'].isin(unique_user_ids)]\n",
    "user_dataFrame.shape"
   ]
  },
  {
   "cell_type": "code",
   "execution_count": 40,
   "metadata": {},
   "outputs": [
    {
     "name": "stderr",
     "output_type": "stream",
     "text": [
      "/anaconda3/lib/python3.6/site-packages/pandas/core/frame.py:3778: SettingWithCopyWarning: \n",
      "A value is trying to be set on a copy of a slice from a DataFrame\n",
      "\n",
      "See the caveats in the documentation: http://pandas.pydata.org/pandas-docs/stable/indexing.html#indexing-view-versus-copy\n",
      "  return super(DataFrame, self).rename(**kwargs)\n"
     ]
    },
    {
     "data": {
      "text/html": [
       "<div>\n",
       "<style scoped>\n",
       "    .dataframe tbody tr th:only-of-type {\n",
       "        vertical-align: middle;\n",
       "    }\n",
       "\n",
       "    .dataframe tbody tr th {\n",
       "        vertical-align: top;\n",
       "    }\n",
       "\n",
       "    .dataframe thead th {\n",
       "        text-align: right;\n",
       "    }\n",
       "</style>\n",
       "<table border=\"1\" class=\"dataframe\">\n",
       "  <thead>\n",
       "    <tr style=\"text-align: right;\">\n",
       "      <th></th>\n",
       "      <th>attributes</th>\n",
       "      <th>business_id</th>\n",
       "      <th>categories</th>\n",
       "      <th>city</th>\n",
       "      <th>name</th>\n",
       "      <th>postal_code</th>\n",
       "      <th>restaurant_rating</th>\n",
       "      <th>state</th>\n",
       "    </tr>\n",
       "  </thead>\n",
       "  <tbody>\n",
       "    <tr>\n",
       "      <th>0</th>\n",
       "      <td>{'RestaurantsReservations': 'True', 'GoodForMe...</td>\n",
       "      <td>QXAEGFB4oINsVuTFxEYKFQ</td>\n",
       "      <td>Specialty Food, Restaurants, Dim Sum, Imported...</td>\n",
       "      <td>Mississauga</td>\n",
       "      <td>Emerald Chinese Restaurant</td>\n",
       "      <td>L5R 3E7</td>\n",
       "      <td>2.5</td>\n",
       "      <td>ON</td>\n",
       "    </tr>\n",
       "    <tr>\n",
       "      <th>1</th>\n",
       "      <td>{'GoodForKids': 'True', 'NoiseLevel': \"u'avera...</td>\n",
       "      <td>gnKjwL_1w79qoiV3IC_xQQ</td>\n",
       "      <td>Sushi Bars, Restaurants, Japanese</td>\n",
       "      <td>Charlotte</td>\n",
       "      <td>Musashi Japanese Restaurant</td>\n",
       "      <td>28210</td>\n",
       "      <td>4.0</td>\n",
       "      <td>NC</td>\n",
       "    </tr>\n",
       "    <tr>\n",
       "      <th>9</th>\n",
       "      <td>{'RestaurantsTakeOut': 'True', 'BusinessParkin...</td>\n",
       "      <td>1Dfx3zM-rW4n-31KeC8sJg</td>\n",
       "      <td>Restaurants, Breakfast &amp; Brunch, Mexican, Taco...</td>\n",
       "      <td>Phoenix</td>\n",
       "      <td>Taco Bell</td>\n",
       "      <td>85016</td>\n",
       "      <td>3.0</td>\n",
       "      <td>AZ</td>\n",
       "    </tr>\n",
       "    <tr>\n",
       "      <th>11</th>\n",
       "      <td>{'RestaurantsPriceRange2': '2', 'BusinessAccep...</td>\n",
       "      <td>fweCYi8FmbJXHCqLnwuk8w</td>\n",
       "      <td>Italian, Restaurants, Pizza, Chicken Wings</td>\n",
       "      <td>Mentor-on-the-Lake</td>\n",
       "      <td>Marco's Pizza</td>\n",
       "      <td>44060</td>\n",
       "      <td>4.0</td>\n",
       "      <td>OH</td>\n",
       "    </tr>\n",
       "    <tr>\n",
       "      <th>12</th>\n",
       "      <td>{'RestaurantsTakeOut': 'True', 'BusinessParkin...</td>\n",
       "      <td>-K4gAv8_vjx8-2BxkVeRkA</td>\n",
       "      <td>Bakeries, Food</td>\n",
       "      <td>Willoughby</td>\n",
       "      <td>Baby Cakes</td>\n",
       "      <td>44094</td>\n",
       "      <td>3.0</td>\n",
       "      <td>OH</td>\n",
       "    </tr>\n",
       "  </tbody>\n",
       "</table>\n",
       "</div>"
      ],
      "text/plain": [
       "                                           attributes             business_id  \\\n",
       "0   {'RestaurantsReservations': 'True', 'GoodForMe...  QXAEGFB4oINsVuTFxEYKFQ   \n",
       "1   {'GoodForKids': 'True', 'NoiseLevel': \"u'avera...  gnKjwL_1w79qoiV3IC_xQQ   \n",
       "9   {'RestaurantsTakeOut': 'True', 'BusinessParkin...  1Dfx3zM-rW4n-31KeC8sJg   \n",
       "11  {'RestaurantsPriceRange2': '2', 'BusinessAccep...  fweCYi8FmbJXHCqLnwuk8w   \n",
       "12  {'RestaurantsTakeOut': 'True', 'BusinessParkin...  -K4gAv8_vjx8-2BxkVeRkA   \n",
       "\n",
       "                                           categories                city  \\\n",
       "0   Specialty Food, Restaurants, Dim Sum, Imported...         Mississauga   \n",
       "1                   Sushi Bars, Restaurants, Japanese           Charlotte   \n",
       "9   Restaurants, Breakfast & Brunch, Mexican, Taco...             Phoenix   \n",
       "11         Italian, Restaurants, Pizza, Chicken Wings  Mentor-on-the-Lake   \n",
       "12                                     Bakeries, Food          Willoughby   \n",
       "\n",
       "                           name postal_code  restaurant_rating state  \n",
       "0    Emerald Chinese Restaurant     L5R 3E7                2.5    ON  \n",
       "1   Musashi Japanese Restaurant       28210                4.0    NC  \n",
       "9                     Taco Bell       85016                3.0    AZ  \n",
       "11                Marco's Pizza       44060                4.0    OH  \n",
       "12                   Baby Cakes       44094                3.0    OH  "
      ]
     },
     "execution_count": 40,
     "metadata": {},
     "output_type": "execute_result"
    }
   ],
   "source": [
    "#Renaming the stars columm in restaurant dataframe before mergin with reviews dataframe\n",
    "restaurant_dataFrame.rename(columns={'stars': 'restaurant_rating'}, inplace=True)\n",
    "restaurant_dataFrame.head()\n"
   ]
  },
  {
   "cell_type": "code",
   "execution_count": 44,
   "metadata": {},
   "outputs": [
    {
     "data": {
      "text/plain": [
       "(1682153, 11)"
      ]
     },
     "execution_count": 44,
     "metadata": {},
     "output_type": "execute_result"
    }
   ],
   "source": [
    "#MErging the restaurant and review dataframes by business ids\n",
    "restaurant_reviews_merged_dataFrame = restaurant_reviews_dataFrame.merge(restaurant_dataFrame[['attributes','business_id','categories', 'city' ,'name', 'restaurant_rating']], how = 'inner', on = 'business_id')\n",
    "restaurant_reviews_merged_dataFrame.shape\n"
   ]
  },
  {
   "cell_type": "code",
   "execution_count": 45,
   "metadata": {},
   "outputs": [
    {
     "data": {
      "text/plain": [
       "False"
      ]
     },
     "execution_count": 45,
     "metadata": {},
     "output_type": "execute_result"
    }
   ],
   "source": [
    "restaurant_reviews_merged_dataFrame.isnull().values.any()"
   ]
  },
  {
   "cell_type": "code",
   "execution_count": 48,
   "metadata": {},
   "outputs": [
    {
     "data": {
      "text/plain": [
       "(1682153, 12)"
      ]
     },
     "execution_count": 48,
     "metadata": {},
     "output_type": "execute_result"
    }
   ],
   "source": [
    "#Merging the dataframe with user dataframe\n",
    "final_dataFrame = restaurant_reviews_merged_dataFrame.merge(user_dataFrame[['user_id', 'average_stars']],how = 'inner', on = 'user_id')\n",
    "final_dataFrame.shape"
   ]
  },
  {
   "cell_type": "code",
   "execution_count": null,
   "metadata": {},
   "outputs": [],
   "source": [
    "#Creating the final merged csv\n",
    "final_dataFrame.to_csv(\"/Users/saranggrover/Desktop/yelp-dataset/final_merged_data.csv\", index=False)"
   ]
  },
  {
   "cell_type": "code",
   "execution_count": null,
   "metadata": {},
   "outputs": [],
   "source": []
  }
 ],
 "metadata": {
  "kernelspec": {
   "display_name": "Python 3",
   "language": "python",
   "name": "python3"
  },
  "language_info": {
   "codemirror_mode": {
    "name": "ipython",
    "version": 3
   },
   "file_extension": ".py",
   "mimetype": "text/x-python",
   "name": "python",
   "nbconvert_exporter": "python",
   "pygments_lexer": "ipython3",
   "version": "3.6.5"
  }
 },
 "nbformat": 4,
 "nbformat_minor": 2
}
