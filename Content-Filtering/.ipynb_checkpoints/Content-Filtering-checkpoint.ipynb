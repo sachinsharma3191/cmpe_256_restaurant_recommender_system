{
 "cells": [
  {
   "cell_type": "code",
   "execution_count": 2,
   "metadata": {},
   "outputs": [],
   "source": [
    "import pandas as pd\n",
    "import numpy as np\n",
    "\n",
    "from sklearn.pipeline import FeatureUnion\n",
    "from sklearn.feature_extraction import DictVectorizer\n",
    "from sklearn import base\n",
    "from ast import literal_eval\n",
    "from tqdm import tqdm_notebook as tqdm\n",
    "from sklearn.linear_model import LogisticRegression\n",
    "from sklearn.naive_bayes import GaussianNB\n",
    "from sklearn.ensemble import RandomForestClassifier\n",
    "from sklearn.metrics import f1_score\n",
    "from sklearn.preprocessing import StandardScaler\n",
    "\n",
    "\n",
    "%matplotlib inline"
   ]
  },
  {
   "cell_type": "code",
   "execution_count": 16,
   "metadata": {},
   "outputs": [],
   "source": [
    "train_df = pd.read_csv(\"/Users/saranggrover/Desktop/yelp-dataset/train.csv\")\n",
    "test_df = pd.read_csv(\"/Users/saranggrover/Desktop/yelp-dataset/test.csv\")\n",
    "val_df = pd.read_csv(\"/Users/saranggrover/Desktop/yelp-dataset/validation.csv\")\n"
   ]
  },
  {
   "cell_type": "code",
   "execution_count": 17,
   "metadata": {
    "scrolled": true
   },
   "outputs": [
    {
     "data": {
      "text/plain": [
       "(1076577, 12)"
      ]
     },
     "execution_count": 17,
     "metadata": {},
     "output_type": "execute_result"
    }
   ],
   "source": [
    "train_df.shape"
   ]
  },
  {
   "cell_type": "code",
   "execution_count": 18,
   "metadata": {},
   "outputs": [
    {
     "data": {
      "text/html": [
       "<div>\n",
       "<style scoped>\n",
       "    .dataframe tbody tr th:only-of-type {\n",
       "        vertical-align: middle;\n",
       "    }\n",
       "\n",
       "    .dataframe tbody tr th {\n",
       "        vertical-align: top;\n",
       "    }\n",
       "\n",
       "    .dataframe thead th {\n",
       "        text-align: right;\n",
       "    }\n",
       "</style>\n",
       "<table border=\"1\" class=\"dataframe\">\n",
       "  <thead>\n",
       "    <tr style=\"text-align: right;\">\n",
       "      <th></th>\n",
       "      <th>business_id</th>\n",
       "      <th>date</th>\n",
       "      <th>review_id</th>\n",
       "      <th>text</th>\n",
       "      <th>user_id</th>\n",
       "      <th>attributes</th>\n",
       "      <th>categories</th>\n",
       "      <th>city</th>\n",
       "      <th>name</th>\n",
       "      <th>restaurant_rating</th>\n",
       "      <th>average_stars</th>\n",
       "      <th>stars</th>\n",
       "    </tr>\n",
       "  </thead>\n",
       "  <tbody>\n",
       "    <tr>\n",
       "      <th>0</th>\n",
       "      <td>e41TP5cXZqSrz50xCBJqZw</td>\n",
       "      <td>2018-08-27 13:22:18</td>\n",
       "      <td>7MDCINszzBuYDUQbMU585g</td>\n",
       "      <td>Wowowow I really like Insomnia, and the eggs b...</td>\n",
       "      <td>O3q-nwYZykMmacxjru01Zg</td>\n",
       "      <td>{'BestNights': \"{'monday': False, 'tuesday': F...</td>\n",
       "      <td>French, Bars, Caterers, Canadian (New), Breakf...</td>\n",
       "      <td>Toronto</td>\n",
       "      <td>Insomnia Restaurant &amp; Lounge</td>\n",
       "      <td>4.0</td>\n",
       "      <td>3.45</td>\n",
       "      <td>4.0</td>\n",
       "    </tr>\n",
       "    <tr>\n",
       "      <th>1</th>\n",
       "      <td>OPcGFLP_mRt9yvgP3ALXOQ</td>\n",
       "      <td>2016-10-02 21:36:35</td>\n",
       "      <td>l5E3lkEI2S6_-JyCD4iiKA</td>\n",
       "      <td>This place was just ok as I wasn't too impress...</td>\n",
       "      <td>gmCK2ARSx22S_4_RQF9Jwg</td>\n",
       "      <td>{'Smoking': \"u'no'\", 'CoatCheck': 'False', 'Ha...</td>\n",
       "      <td>Bars, Restaurants, Latin American, Nightlife, ...</td>\n",
       "      <td>Pittsburgh</td>\n",
       "      <td>Totopo Mexican Kitchen and Bar</td>\n",
       "      <td>4.5</td>\n",
       "      <td>3.77</td>\n",
       "      <td>3.0</td>\n",
       "    </tr>\n",
       "    <tr>\n",
       "      <th>2</th>\n",
       "      <td>2zmsElyBgX5MT7dWoxsQlA</td>\n",
       "      <td>2017-12-29 18:13:17</td>\n",
       "      <td>RPw1fCfDUwpZE4-qKbXikg</td>\n",
       "      <td>If you have the option, go elsewhere \\n\\nThis ...</td>\n",
       "      <td>AMcup3kbJXK2ufixQdxHVg</td>\n",
       "      <td>{'RestaurantsPriceRange2': '2', 'OutdoorSeatin...</td>\n",
       "      <td>Food, Chinese, Ethnic Food, Imported Food, Spe...</td>\n",
       "      <td>Pickering</td>\n",
       "      <td>Paul Wong's Fine Chinese Cuisine</td>\n",
       "      <td>2.5</td>\n",
       "      <td>3.42</td>\n",
       "      <td>2.0</td>\n",
       "    </tr>\n",
       "    <tr>\n",
       "      <th>3</th>\n",
       "      <td>pxv5jBUOgsg6Rf6Z88e4mg</td>\n",
       "      <td>2014-10-03 15:38:54</td>\n",
       "      <td>ud9gtP6EH-qpB3mN9db5xg</td>\n",
       "      <td>Located upstairs this restaurant bar is a neig...</td>\n",
       "      <td>Qu8a6nCM_0-TJejCSsh2xA</td>\n",
       "      <td>{'BusinessParking': \"{'garage': False, 'street...</td>\n",
       "      <td>Restaurants, Nightlife, American (New), Pizza,...</td>\n",
       "      <td>Phoenix</td>\n",
       "      <td>The Attic Ale House</td>\n",
       "      <td>4.0</td>\n",
       "      <td>4.66</td>\n",
       "      <td>5.0</td>\n",
       "    </tr>\n",
       "    <tr>\n",
       "      <th>4</th>\n",
       "      <td>AIasveRX0245WeAH0C46Uw</td>\n",
       "      <td>2016-08-01 22:15:33</td>\n",
       "      <td>wBpaUqbXDDJCXmkK1I34uA</td>\n",
       "      <td>I came to Chick Fiesta expecting decent Portug...</td>\n",
       "      <td>tU94-C1zpBsfGFvpsJJr2w</td>\n",
       "      <td>{'WheelchairAccessible': 'True', 'Alcohol': \"u...</td>\n",
       "      <td>South African, Halal, Portuguese, Steakhouses,...</td>\n",
       "      <td>Toronto</td>\n",
       "      <td>Chick Fiesta</td>\n",
       "      <td>4.0</td>\n",
       "      <td>3.42</td>\n",
       "      <td>2.0</td>\n",
       "    </tr>\n",
       "  </tbody>\n",
       "</table>\n",
       "</div>"
      ],
      "text/plain": [
       "              business_id                 date               review_id  \\\n",
       "0  e41TP5cXZqSrz50xCBJqZw  2018-08-27 13:22:18  7MDCINszzBuYDUQbMU585g   \n",
       "1  OPcGFLP_mRt9yvgP3ALXOQ  2016-10-02 21:36:35  l5E3lkEI2S6_-JyCD4iiKA   \n",
       "2  2zmsElyBgX5MT7dWoxsQlA  2017-12-29 18:13:17  RPw1fCfDUwpZE4-qKbXikg   \n",
       "3  pxv5jBUOgsg6Rf6Z88e4mg  2014-10-03 15:38:54  ud9gtP6EH-qpB3mN9db5xg   \n",
       "4  AIasveRX0245WeAH0C46Uw  2016-08-01 22:15:33  wBpaUqbXDDJCXmkK1I34uA   \n",
       "\n",
       "                                                text                 user_id  \\\n",
       "0  Wowowow I really like Insomnia, and the eggs b...  O3q-nwYZykMmacxjru01Zg   \n",
       "1  This place was just ok as I wasn't too impress...  gmCK2ARSx22S_4_RQF9Jwg   \n",
       "2  If you have the option, go elsewhere \\n\\nThis ...  AMcup3kbJXK2ufixQdxHVg   \n",
       "3  Located upstairs this restaurant bar is a neig...  Qu8a6nCM_0-TJejCSsh2xA   \n",
       "4  I came to Chick Fiesta expecting decent Portug...  tU94-C1zpBsfGFvpsJJr2w   \n",
       "\n",
       "                                          attributes  \\\n",
       "0  {'BestNights': \"{'monday': False, 'tuesday': F...   \n",
       "1  {'Smoking': \"u'no'\", 'CoatCheck': 'False', 'Ha...   \n",
       "2  {'RestaurantsPriceRange2': '2', 'OutdoorSeatin...   \n",
       "3  {'BusinessParking': \"{'garage': False, 'street...   \n",
       "4  {'WheelchairAccessible': 'True', 'Alcohol': \"u...   \n",
       "\n",
       "                                          categories        city  \\\n",
       "0  French, Bars, Caterers, Canadian (New), Breakf...     Toronto   \n",
       "1  Bars, Restaurants, Latin American, Nightlife, ...  Pittsburgh   \n",
       "2  Food, Chinese, Ethnic Food, Imported Food, Spe...   Pickering   \n",
       "3  Restaurants, Nightlife, American (New), Pizza,...     Phoenix   \n",
       "4  South African, Halal, Portuguese, Steakhouses,...     Toronto   \n",
       "\n",
       "                               name  restaurant_rating  average_stars  stars  \n",
       "0      Insomnia Restaurant & Lounge                4.0           3.45    4.0  \n",
       "1    Totopo Mexican Kitchen and Bar                4.5           3.77    3.0  \n",
       "2  Paul Wong's Fine Chinese Cuisine                2.5           3.42    2.0  \n",
       "3               The Attic Ale House                4.0           4.66    5.0  \n",
       "4                      Chick Fiesta                4.0           3.42    2.0  "
      ]
     },
     "execution_count": 18,
     "metadata": {},
     "output_type": "execute_result"
    }
   ],
   "source": [
    "train_df.head()"
   ]
  },
  {
   "cell_type": "code",
   "execution_count": 19,
   "metadata": {},
   "outputs": [
    {
     "data": {
      "text/html": [
       "<div>\n",
       "<style scoped>\n",
       "    .dataframe tbody tr th:only-of-type {\n",
       "        vertical-align: middle;\n",
       "    }\n",
       "\n",
       "    .dataframe tbody tr th {\n",
       "        vertical-align: top;\n",
       "    }\n",
       "\n",
       "    .dataframe thead th {\n",
       "        text-align: right;\n",
       "    }\n",
       "</style>\n",
       "<table border=\"1\" class=\"dataframe\">\n",
       "  <thead>\n",
       "    <tr style=\"text-align: right;\">\n",
       "      <th></th>\n",
       "      <th>business_id</th>\n",
       "      <th>date</th>\n",
       "      <th>review_id</th>\n",
       "      <th>text</th>\n",
       "      <th>user_id</th>\n",
       "      <th>attributes</th>\n",
       "      <th>categories</th>\n",
       "      <th>city</th>\n",
       "      <th>name</th>\n",
       "      <th>restaurant_rating</th>\n",
       "      <th>average_stars</th>\n",
       "      <th>stars</th>\n",
       "    </tr>\n",
       "  </thead>\n",
       "  <tbody>\n",
       "    <tr>\n",
       "      <th>0</th>\n",
       "      <td>b_cb87bZ4W87RqXxbJeuLg</td>\n",
       "      <td>2015-03-23 04:50:17</td>\n",
       "      <td>dqy7akXNNwzuAb7GHr4rvQ</td>\n",
       "      <td>I've passed by this place hundreds of times, n...</td>\n",
       "      <td>iqQBsjqOF9xgIAbsZ2sAZA</td>\n",
       "      <td>{'RestaurantsPriceRange2': '1', 'Caters': 'Fal...</td>\n",
       "      <td>Restaurants, Local Flavor, Vegan, Shopping, Ca...</td>\n",
       "      <td>Montréal</td>\n",
       "      <td>Eva B</td>\n",
       "      <td>4.5</td>\n",
       "      <td>3.44</td>\n",
       "      <td>3.0</td>\n",
       "    </tr>\n",
       "    <tr>\n",
       "      <th>1</th>\n",
       "      <td>YzTafk0tQ-nAu1oICuuNFw</td>\n",
       "      <td>2017-03-17 02:36:40</td>\n",
       "      <td>mhj0ORMTPspY9MdowNfqig</td>\n",
       "      <td>If you're looking for decent sushi without dre...</td>\n",
       "      <td>spX1hYXpJzc9apJYaHiMJQ</td>\n",
       "      <td>{'HasTV': 'True', 'NoiseLevel': \"u'average'\", ...</td>\n",
       "      <td>Restaurants, Sushi Bars, Live/Raw Food, Japanese</td>\n",
       "      <td>Charlotte</td>\n",
       "      <td>Sushi 101</td>\n",
       "      <td>3.5</td>\n",
       "      <td>3.41</td>\n",
       "      <td>3.0</td>\n",
       "    </tr>\n",
       "    <tr>\n",
       "      <th>2</th>\n",
       "      <td>Xny0n0s98TpP82sQxfgIMQ</td>\n",
       "      <td>2018-02-13 17:29:42</td>\n",
       "      <td>RSJnaE-P93-5jTPBhNOVDQ</td>\n",
       "      <td>I'm polish, Hungarian, and german so I have mi...</td>\n",
       "      <td>RCxBgx6ti8AYsCSEsHRBPg</td>\n",
       "      <td>{'RestaurantsDelivery': 'False', 'RestaurantsG...</td>\n",
       "      <td>American (Traditional), Nightlife, Bars, Polis...</td>\n",
       "      <td>Cleveland</td>\n",
       "      <td>Sokolowski's University Inn</td>\n",
       "      <td>4.5</td>\n",
       "      <td>4.37</td>\n",
       "      <td>3.0</td>\n",
       "    </tr>\n",
       "    <tr>\n",
       "      <th>3</th>\n",
       "      <td>HjXI6lKGPVNQ8dYJPtaOCg</td>\n",
       "      <td>2016-09-06 20:40:31</td>\n",
       "      <td>GihEyvZaSB_YHeYO1E1Qfw</td>\n",
       "      <td>The pizza with jerk chicken on it is all you n...</td>\n",
       "      <td>tPZMwjHZNAx_HuRzTpMXmA</td>\n",
       "      <td>{'RestaurantsDelivery': 'False', 'RestaurantsP...</td>\n",
       "      <td>Sandwiches, Pizza, Bars, Food, Nightlife, Beer...</td>\n",
       "      <td>Tempe</td>\n",
       "      <td>Mellow Mushroom</td>\n",
       "      <td>3.5</td>\n",
       "      <td>4.27</td>\n",
       "      <td>4.0</td>\n",
       "    </tr>\n",
       "    <tr>\n",
       "      <th>4</th>\n",
       "      <td>vL9rvPWFWd7FsdJL330b7Q</td>\n",
       "      <td>2008-11-06 15:25:20</td>\n",
       "      <td>w--i84bOL7qwN_fFdc70pw</td>\n",
       "      <td>I've been out to Save Your Dairy a few times a...</td>\n",
       "      <td>NeJLklFT4Ohig0uW9719bw</td>\n",
       "      <td>{'BusinessAcceptsCreditCards': 'False', 'Busin...</td>\n",
       "      <td>Specialty Food, Health Markets, Food</td>\n",
       "      <td>Queen Creek</td>\n",
       "      <td>Save Your Dairy</td>\n",
       "      <td>4.5</td>\n",
       "      <td>3.76</td>\n",
       "      <td>5.0</td>\n",
       "    </tr>\n",
       "  </tbody>\n",
       "</table>\n",
       "</div>"
      ],
      "text/plain": [
       "              business_id                 date               review_id  \\\n",
       "0  b_cb87bZ4W87RqXxbJeuLg  2015-03-23 04:50:17  dqy7akXNNwzuAb7GHr4rvQ   \n",
       "1  YzTafk0tQ-nAu1oICuuNFw  2017-03-17 02:36:40  mhj0ORMTPspY9MdowNfqig   \n",
       "2  Xny0n0s98TpP82sQxfgIMQ  2018-02-13 17:29:42  RSJnaE-P93-5jTPBhNOVDQ   \n",
       "3  HjXI6lKGPVNQ8dYJPtaOCg  2016-09-06 20:40:31  GihEyvZaSB_YHeYO1E1Qfw   \n",
       "4  vL9rvPWFWd7FsdJL330b7Q  2008-11-06 15:25:20  w--i84bOL7qwN_fFdc70pw   \n",
       "\n",
       "                                                text                 user_id  \\\n",
       "0  I've passed by this place hundreds of times, n...  iqQBsjqOF9xgIAbsZ2sAZA   \n",
       "1  If you're looking for decent sushi without dre...  spX1hYXpJzc9apJYaHiMJQ   \n",
       "2  I'm polish, Hungarian, and german so I have mi...  RCxBgx6ti8AYsCSEsHRBPg   \n",
       "3  The pizza with jerk chicken on it is all you n...  tPZMwjHZNAx_HuRzTpMXmA   \n",
       "4  I've been out to Save Your Dairy a few times a...  NeJLklFT4Ohig0uW9719bw   \n",
       "\n",
       "                                          attributes  \\\n",
       "0  {'RestaurantsPriceRange2': '1', 'Caters': 'Fal...   \n",
       "1  {'HasTV': 'True', 'NoiseLevel': \"u'average'\", ...   \n",
       "2  {'RestaurantsDelivery': 'False', 'RestaurantsG...   \n",
       "3  {'RestaurantsDelivery': 'False', 'RestaurantsP...   \n",
       "4  {'BusinessAcceptsCreditCards': 'False', 'Busin...   \n",
       "\n",
       "                                          categories         city  \\\n",
       "0  Restaurants, Local Flavor, Vegan, Shopping, Ca...     Montréal   \n",
       "1   Restaurants, Sushi Bars, Live/Raw Food, Japanese    Charlotte   \n",
       "2  American (Traditional), Nightlife, Bars, Polis...    Cleveland   \n",
       "3  Sandwiches, Pizza, Bars, Food, Nightlife, Beer...        Tempe   \n",
       "4               Specialty Food, Health Markets, Food  Queen Creek   \n",
       "\n",
       "                          name  restaurant_rating  average_stars  stars  \n",
       "0                        Eva B                4.5           3.44    3.0  \n",
       "1                    Sushi 101                3.5           3.41    3.0  \n",
       "2  Sokolowski's University Inn                4.5           4.37    3.0  \n",
       "3              Mellow Mushroom                3.5           4.27    4.0  \n",
       "4              Save Your Dairy                4.5           3.76    5.0  "
      ]
     },
     "execution_count": 19,
     "metadata": {},
     "output_type": "execute_result"
    }
   ],
   "source": [
    "val_df.head()"
   ]
  },
  {
   "cell_type": "code",
   "execution_count": 20,
   "metadata": {},
   "outputs": [],
   "source": [
    "#Converting the columm strings into dictionary and lists using custom functions\n",
    "def convert_str_to_dict(row):\n",
    "    return literal_eval(row)"
   ]
  },
  {
   "cell_type": "code",
   "execution_count": 21,
   "metadata": {},
   "outputs": [],
   "source": [
    "def convert_str_to_list(row):\n",
    "    l = row.strip().split(\",\")\n",
    "    for s in l:\n",
    "        s = s.strip()\n",
    "    return l"
   ]
  },
  {
   "cell_type": "code",
   "execution_count": 22,
   "metadata": {},
   "outputs": [],
   "source": [
    "train_df['categories'] = train_df['categories'].apply(convert_str_to_list)\n",
    "val_df['categories'] = val_df['categories'].apply(convert_str_to_list)\n"
   ]
  },
  {
   "cell_type": "code",
   "execution_count": 23,
   "metadata": {},
   "outputs": [],
   "source": [
    "#Binarizing the ratings\n",
    "def convert_ratings(row):\n",
    "    x = int(row)\n",
    "    if x in [1, 2, 3]:\n",
    "        new_rating = 0\n",
    "    else:\n",
    "        new_rating = 1\n",
    "    return new_rating"
   ]
  },
  {
   "cell_type": "code",
   "execution_count": 24,
   "metadata": {},
   "outputs": [],
   "source": [
    "train_df['likes'] = train_df['stars'].apply(convert_ratings)\n",
    "val_df['likes'] = val_df['stars'].apply(convert_ratings)"
   ]
  },
  {
   "cell_type": "code",
   "execution_count": 25,
   "metadata": {},
   "outputs": [],
   "source": [
    "train_labels = train_df['likes']"
   ]
  },
  {
   "cell_type": "code",
   "execution_count": 26,
   "metadata": {},
   "outputs": [],
   "source": [
    "val_labels = val_df['likes']"
   ]
  },
  {
   "cell_type": "code",
   "execution_count": 27,
   "metadata": {},
   "outputs": [],
   "source": [
    "#Dropping unnecessary columms\n",
    "train_df.drop(columns=['date', 'review_id', 'text', 'stars'], inplace=True)\n",
    "val_df.drop(columns=['date', 'review_id', 'text', 'stars'], inplace=True)"
   ]
  },
  {
   "cell_type": "code",
   "execution_count": 28,
   "metadata": {},
   "outputs": [
    {
     "data": {
      "text/plain": [
       "Index(['business_id', 'user_id', 'attributes', 'categories', 'city', 'name',\n",
       "       'restaurant_rating', 'average_stars', 'likes'],\n",
       "      dtype='object')"
      ]
     },
     "execution_count": 28,
     "metadata": {},
     "output_type": "execute_result"
    }
   ],
   "source": [
    "train_df.columns\n"
   ]
  },
  {
   "cell_type": "code",
   "execution_count": 29,
   "metadata": {},
   "outputs": [
    {
     "data": {
      "text/plain": [
       "Index(['business_id', 'user_id', 'attributes', 'categories', 'city', 'name',\n",
       "       'restaurant_rating', 'average_stars', 'likes'],\n",
       "      dtype='object')"
      ]
     },
     "execution_count": 29,
     "metadata": {},
     "output_type": "execute_result"
    }
   ],
   "source": [
    "val_df.columns"
   ]
  },
  {
   "cell_type": "code",
   "execution_count": 21,
   "metadata": {},
   "outputs": [],
   "source": [
    "def Value_To_Dict(val):\n",
    "    return {val:1}\n",
    "\n",
    "def List_To_Dict(the_list):\n",
    "    return {category:1 for category in the_list}\n",
    "    \n",
    "def Flatten_Dict(d, prekey = ''):\n",
    "    flat_dict = {}\n",
    "    for key in d:\n",
    "        if isinstance(d[key], bool) and d[key]:\n",
    "            flat_dict.update({prekey+'_'+key:1})\n",
    "        elif isinstance(d[key], str):\n",
    "            flat_dict.update({prekey+'_'+key+'_'+d[key]:1})\n",
    "        elif isinstance(d[key], dict):\n",
    "            flat_dict.update(Flatten_Dict(d[key], prekey=prekey+'_'+key))\n",
    "    return flat_dict\n"
   ]
  },
  {
   "cell_type": "code",
   "execution_count": 22,
   "metadata": {},
   "outputs": [],
   "source": [
    "class One_Hot_Encoder(base.BaseEstimator, base.TransformerMixin):\n",
    "    def __init__(self, colnames, value_type = 'value', sparse = True):\n",
    "        if value_type == 'value':\n",
    "            self.apply_function_ = Value_To_Dict\n",
    "        elif value_type == 'list':\n",
    "            self.apply_function_ = List_To_Dict\n",
    "        elif value_type == 'dict':\n",
    "            self.apply_function_ = Flatten_Dict\n",
    "        self.colnames_ = colnames\n",
    "        self.dv_ = DictVectorizer(sparse = sparse)\n",
    "\n",
    "    def fit(self, X, y = None):\n",
    "        self.dv_.fit(X[self.colnames_].apply(self.apply_function_))\n",
    "        return self\n",
    "\n",
    "    def transform(self, X):\n",
    "        return self.dv_.transform(X[self.colnames_].apply(self.apply_function_))"
   ]
  },
  {
   "cell_type": "code",
   "execution_count": 66,
   "metadata": {},
   "outputs": [],
   "source": [
    "class Column_Selector(base.BaseEstimator, base.TransformerMixin):\n",
    "    def __init__(self, colnames):\n",
    "        self.colnames_ = colnames\n",
    "\n",
    "    def fit(self, X, y = None):\n",
    "        return self\n",
    "\n",
    "    def transform(self, X):\n",
    "        return pd.DataFrame(X[self.colnames_])"
   ]
  },
  {
   "cell_type": "code",
   "execution_count": 67,
   "metadata": {},
   "outputs": [],
   "source": [
    "# Create features for each restaurant - Categories, Attributes, City and Average rating\n",
    "\n",
    "encoding_category = One_Hot_Encoder('categories', 'list', sparse=False)\n",
    "encoding_attribute = One_Hot_Encoder('attributes', 'dict', sparse=False)\n",
    "encoding_city= One_Hot_Encoder('city', 'value', sparse=False)\n",
    "business_rating = Column_Selector(['restaurant_rating'])\n",
    "\n",
    "encoding_union = FeatureUnion([ ('cat', encoding_category), \n",
    "                               ('attr', encoding_attribute),\n",
    "                               ('city', encoding_city), \n",
    "                               ('restaurant_rating', business_rating),\n",
    "                              ])"
   ]
  },
  {
   "cell_type": "code",
   "execution_count": null,
   "metadata": {},
   "outputs": [],
   "source": [
    "train_features = encoding_union.fit_transform(train_df)"
   ]
  },
  {
   "cell_type": "code",
   "execution_count": 25,
   "metadata": {},
   "outputs": [
    {
     "data": {
      "text/plain": [
       "(1078332, 2612)"
      ]
     },
     "execution_count": 25,
     "metadata": {},
     "output_type": "execute_result"
    }
   ],
   "source": [
    "train_features.shape"
   ]
  },
  {
   "cell_type": "code",
   "execution_count": null,
   "metadata": {},
   "outputs": [],
   "source": [
    "val_features = encoding_union.transform(val_df)"
   ]
  },
  {
   "cell_type": "code",
   "execution_count": 26,
   "metadata": {},
   "outputs": [
    {
     "data": {
      "text/plain": [
       "(269584, 2612)"
      ]
     },
     "execution_count": 26,
     "metadata": {},
     "output_type": "execute_result"
    }
   ],
   "source": [
    "val_features.shape"
   ]
  },
  {
   "cell_type": "code",
   "execution_count": 27,
   "metadata": {},
   "outputs": [],
   "source": [
    "sc = StandardScaler()"
   ]
  },
  {
   "cell_type": "code",
   "execution_count": 28,
   "metadata": {},
   "outputs": [],
   "source": [
    "train_features[:, -1] = sc.fit_transform(train_features[:, -1].reshape(-1, 1))[:, 0]"
   ]
  },
  {
   "cell_type": "code",
   "execution_count": 29,
   "metadata": {},
   "outputs": [],
   "source": [
    "val_features[:, -1] = sc.transform(val_features[:, -1].reshape(-1, 1))[:, 0]"
   ]
  },
  {
   "cell_type": "code",
   "execution_count": 31,
   "metadata": {},
   "outputs": [],
   "source": [
    "#Custom methods to run the classification algorithms\n",
    "def naive_bayes(train_feats, train_labels):\n",
    "    clf = GaussianNB()\n",
    "    clf.fit(train_feats, train_labels)\n",
    "    return clf\n",
    "\n",
    "def logistic_regression(train_feats, train_labels):\n",
    "    clf = LogisticRegression(solver='liblinear')\n",
    "    clf.fit(train_feats, train_labels)\n",
    "    return clf\n",
    "\n",
    "def random_forest(train_feats, train_labels):\n",
    "    clf = RandomForestClassifier(n_estimators=10)\n",
    "    clf.fit(train_feats, train_labels)\n",
    "    return clf"
   ]
  },
  {
   "cell_type": "code",
   "execution_count": 32,
   "metadata": {},
   "outputs": [],
   "source": [
    "def test_algo(clf, test_feats, test_labels):\n",
    "    predictions = clf.predict(test_feats)\n",
    "    f1 = f1_score(test_labels, predictions, average='binary')\n",
    "    acc = balanced_accuracy_score(test_labels, predictions)\n",
    "    return f1, acc"
   ]
  },
  {
   "cell_type": "code",
   "execution_count": 33,
   "metadata": {},
   "outputs": [],
   "source": [
    "unique_users = train_df['user_id'].unique()"
   ]
  },
  {
   "cell_type": "code",
   "execution_count": 34,
   "metadata": {},
   "outputs": [
    {
     "data": {
      "text/plain": [
       "(64658,)"
      ]
     },
     "execution_count": 34,
     "metadata": {},
     "output_type": "execute_result"
    }
   ],
   "source": [
    "unique_users.shape"
   ]
  },
  {
   "cell_type": "code",
   "execution_count": 35,
   "metadata": {},
   "outputs": [],
   "source": [
    "import csv\n",
    "import warnings\n",
    "warnings.filterwarnings('ignore') "
   ]
  },
  {
   "cell_type": "code",
   "execution_count": 37,
   "metadata": {},
   "outputs": [
    {
     "data": {
      "application/vnd.jupyter.widget-view+json": {
       "model_id": "93f241a4af5a4dc19ee7a31c95b37483",
       "version_major": 2,
       "version_minor": 0
      },
      "text/html": [
       "<p>Failed to display Jupyter Widget of type <code>HBox</code>.</p>\n",
       "<p>\n",
       "  If you're reading this message in the Jupyter Notebook or JupyterLab Notebook, it may mean\n",
       "  that the widgets JavaScript is still loading. If this message persists, it\n",
       "  likely means that the widgets JavaScript library is either not installed or\n",
       "  not enabled. See the <a href=\"https://ipywidgets.readthedocs.io/en/stable/user_install.html\">Jupyter\n",
       "  Widgets Documentation</a> for setup instructions.\n",
       "</p>\n",
       "<p>\n",
       "  If you're reading this message in another frontend (for example, a static\n",
       "  rendering on GitHub or <a href=\"https://nbviewer.jupyter.org/\">NBViewer</a>),\n",
       "  it may mean that your frontend doesn't currently support widgets.\n",
       "</p>\n"
      ],
      "text/plain": [
       "HBox(children=(IntProgress(value=0, max=64658), HTML(value='')))"
      ]
     },
     "metadata": {},
     "output_type": "display_data"
    },
    {
     "name": "stdout",
     "output_type": "stream",
     "text": [
      "\n"
     ]
    }
   ],
   "source": [
    "#Creating user profile using the Classification algorithms, training the models on it and selecting and saving the best algorithm \n",
    "total_rf_acc = 0.\n",
    "total_rf_f1 = 0.\n",
    "total_lr_acc = 0.\n",
    "total_lr_f1 = 0.\n",
    "total_gb_acc = 0.\n",
    "total_gb_f1 = 0.\n",
    "final_clf_list = []\n",
    "bad_count = 0.\n",
    "val_bad = 0.\n",
    "with open(\"/Users/saranggrover/Desktop/yelp-dataset/user_profile_standard_scaled.csv\", \"w\") as output:\n",
    "    writer = csv.writer(output, delimiter=',')\n",
    "    writer.writerow(('user_id', 'Random Forest', 'Logistic Regression', 'Naive Bayes', 'MAX', 'Best Model'))\n",
    "    for index, user in enumerate(tqdm(unique_users)):\n",
    "        train_inds = train_df[train_df['user_id'].values == user].index.values\n",
    "        val_inds = val_df[val_df['user_id'].values == user].index.values\n",
    "        \n",
    "        train_labels = train_df['likes'].values[train_inds]\n",
    "        val_labels = val_df['likes'].values[val_inds]\n",
    "        \n",
    "        if (np.all(train_labels)) or (not np.any(train_labels)):\n",
    "            bad_count += 1\n",
    "            if (np.all(val_labels)) or (not np.any(val_labels)):\n",
    "                val_bad += 1\n",
    "            writer.writerow((user, None, None, None, None, \"most_popular\"))\n",
    "            final_clf_list.append((user, \"most_popular_{}\".format(train_labels[0])))\n",
    "            \n",
    "            continue\n",
    "        else:\n",
    "            train_feats = train_features[train_inds]\n",
    "            val_feats = val_features[val_inds]\n",
    "            rf = random_forest(train_feats, train_labels)\n",
    "            lr = logistic_regression(train_feats, train_labels)\n",
    "            gb = naive_bayes(train_feats, train_labels)\n",
    "\n",
    "            rf_f1, rf_acc = test_algo(rf, val_feats, val_labels)\n",
    "            lr_f1, lr_acc = test_algo(lr, val_feats, val_labels)\n",
    "            gb_f1, gb_acc = test_algo(gb, val_feats, val_labels)\n",
    "\n",
    "            \n",
    "        total_rf_acc += rf_f1\n",
    "        total_rf_f1 += rf_acc\n",
    "        total_lr_acc += lr_acc\n",
    "        total_lr_f1 += lr_f1\n",
    "        total_gb_acc += gb_acc\n",
    "        total_gb_f1 += gb_f1\n",
    "        max_acc = max(rf_acc, lr_acc, gb_acc)\n",
    "        final_clf = None\n",
    "        if rf_acc == max_acc:\n",
    "            final_clf = rf\n",
    "        elif lr_acc == max_acc:\n",
    "            final_clf = lr\n",
    "        elif gb_acc == max_acc:\n",
    "            final_clf = gb\n",
    "        else:\n",
    "            raise Exception(\"could not find final classifier....\")\n",
    "      \n",
    "        writer.writerow((user, rf_acc, lr_acc, gb_acc, max(rf_acc, lr_acc, gb_acc), type(final_clf).__name__))\n",
    "       \n",
    "        final_clf_list.append((user, type(final_clf).__name__))\n",
    "    \n",
    "        \n",
    "total_rf_acc /= (len(unique_users) - bad_count)\n",
    "total_rf_f1 /= (len(unique_users) - bad_count)\n",
    "total_lr_f1 /= (len(unique_users) - bad_count)\n",
    "total_lr_acc /= (len(unique_users) - bad_count)\n",
    "total_gb_f1 /= (len(unique_users) - bad_count)\n",
    "total_gb_acc /= (len(unique_users) - bad_count)"
   ]
  },
  {
   "cell_type": "code",
   "execution_count": 38,
   "metadata": {},
   "outputs": [
    {
     "name": "stdout",
     "output_type": "stream",
     "text": [
      "4236.0\n"
     ]
    }
   ],
   "source": [
    "print(val_bad)"
   ]
  },
  {
   "cell_type": "code",
   "execution_count": 39,
   "metadata": {},
   "outputs": [
    {
     "name": "stdout",
     "output_type": "stream",
     "text": [
      "Total accuracy: RF: 57.92%, LR: 63.71%, GB: 60.83%\n",
      "Total f1 score: RF: 59.91%, LR: 63.67%, GB: 60.81%\n"
     ]
    }
   ],
   "source": [
    "print(\"Total accuracy: RF: {:.2%}, LR: {:.2%}, GB: {:.2%}\".format(float(total_rf_acc), float(total_lr_acc), float(total_gb_acc)))\n",
    "print(\"Total f1 score: RF: {:.2%}, LR: {:.2%}, GB: {:.2%}\".format(float(total_rf_f1), float(total_lr_f1), float(total_gb_f1)))\n"
   ]
  },
  {
   "cell_type": "code",
   "execution_count": 40,
   "metadata": {},
   "outputs": [],
   "source": [
    "with open('/Users/saranggrover/Desktop/yelp-dataset/user_model_standard_scaled.csv','w') as out:\n",
    "    csv_out=csv.writer(out)\n",
    "    csv_out.writerow(['user_id', 'best_model'])\n",
    "    csv_out.writerows(final_clf_list)"
   ]
  },
  {
   "cell_type": "markdown",
   "metadata": {},
   "source": [
    "### Experiments\n",
    "\n",
    "- Scaling:\n",
    "    - StandardScaler\n",
    "        - **Total accuracy: RF: 57.92%, LR: 63.71%, GB: 60.83%**\n",
    "        - **Total f1 score: RF: 59.91%, LR: 63.67%, GB: 60.81%**"
   ]
  },
  {
   "cell_type": "code",
   "execution_count": 42,
   "metadata": {},
   "outputs": [],
   "source": [
    "user_profile_models = pd.read_csv(\"/Users/saranggrover/Desktop/yelp-dataset/user_model_standard_scaled.csv\")"
   ]
  },
  {
   "cell_type": "code",
   "execution_count": 43,
   "metadata": {},
   "outputs": [
    {
     "data": {
      "text/html": [
       "<div>\n",
       "<style scoped>\n",
       "    .dataframe tbody tr th:only-of-type {\n",
       "        vertical-align: middle;\n",
       "    }\n",
       "\n",
       "    .dataframe tbody tr th {\n",
       "        vertical-align: top;\n",
       "    }\n",
       "\n",
       "    .dataframe thead th {\n",
       "        text-align: right;\n",
       "    }\n",
       "</style>\n",
       "<table border=\"1\" class=\"dataframe\">\n",
       "  <thead>\n",
       "    <tr style=\"text-align: right;\">\n",
       "      <th></th>\n",
       "      <th>user_id</th>\n",
       "      <th>best_model</th>\n",
       "    </tr>\n",
       "  </thead>\n",
       "  <tbody>\n",
       "    <tr>\n",
       "      <th>0</th>\n",
       "      <td>iGtInQDTZ89mKnkhFWdlfA</td>\n",
       "      <td>RandomForestClassifier</td>\n",
       "    </tr>\n",
       "    <tr>\n",
       "      <th>1</th>\n",
       "      <td>O3cItff0mKAfXtl5VmbW2w</td>\n",
       "      <td>LogisticRegression</td>\n",
       "    </tr>\n",
       "    <tr>\n",
       "      <th>2</th>\n",
       "      <td>U5YQX_vMl_xQy8EQDqlNQQ</td>\n",
       "      <td>GaussianNB</td>\n",
       "    </tr>\n",
       "    <tr>\n",
       "      <th>3</th>\n",
       "      <td>JrgMipJRhagq42ROTzC_CQ</td>\n",
       "      <td>RandomForestClassifier</td>\n",
       "    </tr>\n",
       "    <tr>\n",
       "      <th>4</th>\n",
       "      <td>8lofUN7rFkwT2bw4b5SM4g</td>\n",
       "      <td>RandomForestClassifier</td>\n",
       "    </tr>\n",
       "  </tbody>\n",
       "</table>\n",
       "</div>"
      ],
      "text/plain": [
       "                  user_id              best_model\n",
       "0  iGtInQDTZ89mKnkhFWdlfA  RandomForestClassifier\n",
       "1  O3cItff0mKAfXtl5VmbW2w      LogisticRegression\n",
       "2  U5YQX_vMl_xQy8EQDqlNQQ              GaussianNB\n",
       "3  JrgMipJRhagq42ROTzC_CQ  RandomForestClassifier\n",
       "4  8lofUN7rFkwT2bw4b5SM4g  RandomForestClassifier"
      ]
     },
     "execution_count": 43,
     "metadata": {},
     "output_type": "execute_result"
    }
   ],
   "source": [
    "user_profile_models.head()"
   ]
  },
  {
   "cell_type": "code",
   "execution_count": 44,
   "metadata": {},
   "outputs": [],
   "source": [
    "test_df['attributes'] = test_df['attributes'].apply(convert_str_to_dict)\n",
    "test_df['categories'] = test_df['categories'].apply(convert_str_to_list)"
   ]
  },
  {
   "cell_type": "code",
   "execution_count": 45,
   "metadata": {},
   "outputs": [],
   "source": [
    "test_df.drop(columns=['date', 'review_id', 'text'], inplace=True)"
   ]
  },
  {
   "cell_type": "code",
   "execution_count": 46,
   "metadata": {},
   "outputs": [],
   "source": [
    "test_df['likes'] = test_df['stars'].apply(convert_ratings)"
   ]
  },
  {
   "cell_type": "code",
   "execution_count": 47,
   "metadata": {},
   "outputs": [],
   "source": [
    "test_features = encoding_union.transform(test_df)"
   ]
  },
  {
   "cell_type": "code",
   "execution_count": 48,
   "metadata": {},
   "outputs": [],
   "source": [
    "test_features[:, -1] = sc.transform(test_features[:, -1].reshape(-1, 1))[:, 0]"
   ]
  },
  {
   "cell_type": "code",
   "execution_count": 49,
   "metadata": {},
   "outputs": [],
   "source": [
    "test_unique_users = test_df['user_id'].values"
   ]
  },
  {
   "cell_type": "code",
   "execution_count": 55,
   "metadata": {},
   "outputs": [
    {
     "data": {
      "application/vnd.jupyter.widget-view+json": {
       "model_id": "df5adaa6cc534571a95a1f0f538d24e1",
       "version_major": 2,
       "version_minor": 0
      },
      "text/html": [
       "<p>Failed to display Jupyter Widget of type <code>HBox</code>.</p>\n",
       "<p>\n",
       "  If you're reading this message in the Jupyter Notebook or JupyterLab Notebook, it may mean\n",
       "  that the widgets JavaScript is still loading. If this message persists, it\n",
       "  likely means that the widgets JavaScript library is either not installed or\n",
       "  not enabled. See the <a href=\"https://ipywidgets.readthedocs.io/en/stable/user_install.html\">Jupyter\n",
       "  Widgets Documentation</a> for setup instructions.\n",
       "</p>\n",
       "<p>\n",
       "  If you're reading this message in another frontend (for example, a static\n",
       "  rendering on GitHub or <a href=\"https://nbviewer.jupyter.org/\">NBViewer</a>),\n",
       "  it may mean that your frontend doesn't currently support widgets.\n",
       "</p>\n"
      ],
      "text/plain": [
       "HBox(children=(IntProgress(value=0, max=336980), HTML(value='')))"
      ]
     },
     "metadata": {},
     "output_type": "display_data"
    },
    {
     "name": "stdout",
     "output_type": "stream",
     "text": [
      "\n"
     ]
    },
    {
     "name": "stderr",
     "output_type": "stream",
     "text": [
      "Exception in thread Thread-6:\n",
      "Traceback (most recent call last):\n",
      "  File \"/usr/local/Cellar/python/3.6.5/Frameworks/Python.framework/Versions/3.6/lib/python3.6/threading.py\", line 916, in _bootstrap_inner\n",
      "    self.run()\n",
      "  File \"/usr/local/lib/python3.6/site-packages/tqdm/_tqdm.py\", line 148, in run\n",
      "    for instance in self.tqdm_cls._instances:\n",
      "  File \"/usr/local/Cellar/python/3.6.5/Frameworks/Python.framework/Versions/3.6/lib/python3.6/_weakrefset.py\", line 60, in __iter__\n",
      "    for itemref in self.data:\n",
      "RuntimeError: Set changed size during iteration\n",
      "\n"
     ]
    },
    {
     "name": "stdout",
     "output_type": "stream",
     "text": [
      "\n"
     ]
    }
   ],
   "source": [
    "total_test_f1 = 0.\n",
    "total_test_acc = 0.\n",
    "\n",
    "for index, user in enumerate(tqdm(test_unique_users)):\n",
    "    train_inds = train_df[train_df['user_id'].values == user].index.values\n",
    "    test_inds = test_df[test_df['user_id'].values == user].index.values\n",
    "    \n",
    "    train_labels = train_df['likes'].values[train_inds]\n",
    "    test_labels = test_df['likes'].values[test_inds]\n",
    "    \n",
    "    train_feats = train_features[train_inds]\n",
    "    test_feats = test_features[test_inds]\n",
    "    \n",
    "    active_user_model = user_profile_models[user_profile_models['user_id'].values == user]['best_model'].values[0]\n",
    "#     print(active_user_model)\n",
    "    user_clf = None\n",
    "    if active_user_model == \"LogisticRegression\":\n",
    "        user_clf = logistic_regression(train_feats, train_labels)\n",
    "    elif active_user_model == \"RandomForestClassifier\":\n",
    "        user_clf = random_forest(train_feats, train_labels)\n",
    "    else:\n",
    "        user_clf = naive_bayes(train_feats, train_labels)\n",
    "    \n",
    "    u_f1, u_acc = test_algo(user_clf, test_feats, test_labels)\n",
    "    total_test_f1 += u_f1\n",
    "    total_test_acc += u_acc\n",
    "\n",
    "total_test_f1 /= len(test_unique_users)\n",
    "total_test_acc /= len(test_unique_users)  "
   ]
  },
  {
   "cell_type": "code",
   "execution_count": 56,
   "metadata": {},
   "outputs": [
    {
     "name": "stdout",
     "output_type": "stream",
     "text": [
      "Test F1: 0.6599, Test Acc: 0.5923\n"
     ]
    }
   ],
   "source": [
    "print(\"Test F1: {:.4f}, Test Acc: {:.4f}\".format(total_test_f1, total_test_acc))"
   ]
  },
  {
   "cell_type": "markdown",
   "metadata": {},
   "source": [
    "## Test Results (average F1 and Accuracy per user)\n",
    "\n",
    "- Scaled with standard scaler\n",
    "    - Test F1: 0.6599, Test Acc: 0.5923"
   ]
  }
 ],
 "metadata": {
  "kernelspec": {
   "display_name": "Python 3",
   "language": "python",
   "name": "python3"
  },
  "language_info": {
   "codemirror_mode": {
    "name": "ipython",
    "version": 3
   },
   "file_extension": ".py",
   "mimetype": "text/x-python",
   "name": "python",
   "nbconvert_exporter": "python",
   "pygments_lexer": "ipython3",
   "version": "3.6.5"
  }
 },
 "nbformat": 4,
 "nbformat_minor": 4
}
