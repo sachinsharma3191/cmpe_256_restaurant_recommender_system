{
 "cells": [
  {
   "cell_type": "markdown",
   "metadata": {},
   "source": [
    "# Content-Based Filtering using ML Regression Models\n",
    "\n",
    "- Kevin Chuang\n",
    "- Yelp Academic Dataset (01.2019)"
   ]
  },
  {
   "cell_type": "code",
   "execution_count": 1,
   "metadata": {},
   "outputs": [],
   "source": [
    "import os\n",
    "import pandas as pd\n",
    "import numpy as np\n",
    "\n",
    "from scipy.sparse import csr_matrix\n",
    "from sklearn.decomposition import TruncatedSVD\n",
    "from scipy.sparse.linalg import svds\n",
    "import matplotlib.pyplot as plt\n",
    "from sklearn.metrics import mean_squared_error\n",
    "from numpy.linalg import norm\n",
    "from sklearn.pipeline import FeatureUnion\n",
    "from scipy.sparse import coo_matrix\n",
    "from datetime import datetime\n",
    "from sklearn.model_selection import train_test_split\n",
    "from sklearn.preprocessing import OneHotEncoder\n",
    "from sklearn.feature_extraction import DictVectorizer\n",
    "from sklearn import base\n",
    "from ast import literal_eval\n",
    "from tqdm import tqdm_notebook as tqdm\n",
    "from sklearn.linear_model import Lasso, ElasticNet, Ridge, LinearRegression\n",
    "\n",
    "from sklearn.metrics import mean_squared_error, mean_absolute_error\n",
    "from sklearn.preprocessing import StandardScaler, MinMaxScaler\n",
    "from sklearn.compose import ColumnTransformer\n",
    "from sklearn.pipeline import Pipeline\n",
    "\n",
    "# %matplotlib inline"
   ]
  },
  {
   "cell_type": "markdown",
   "metadata": {},
   "source": [
    "## Load Data"
   ]
  },
  {
   "cell_type": "code",
   "execution_count": 2,
   "metadata": {},
   "outputs": [],
   "source": [
    "train_df = pd.read_csv(\"yelp_restaurant_train.csv\")\n",
    "val_df = pd.read_csv(\"yelp_restaurant_validation.csv\")\n",
    "test_df = pd.read_csv(\"yelp_restaurant_test.csv\")"
   ]
  },
  {
   "cell_type": "code",
   "execution_count": 3,
   "metadata": {},
   "outputs": [],
   "source": [
    "# rest_df = pd.read_csv(\"restaurant_business.csv\")"
   ]
  },
  {
   "cell_type": "code",
   "execution_count": 4,
   "metadata": {},
   "outputs": [
    {
     "data": {
      "text/plain": [
       "(64658,)"
      ]
     },
     "execution_count": 4,
     "metadata": {},
     "output_type": "execute_result"
    }
   ],
   "source": [
    "# Count number of users\n",
    "train_df['user_id'].unique().shape"
   ]
  },
  {
   "cell_type": "code",
   "execution_count": 5,
   "metadata": {},
   "outputs": [
    {
     "data": {
      "text/plain": [
       "(64658,)"
      ]
     },
     "execution_count": 5,
     "metadata": {},
     "output_type": "execute_result"
    }
   ],
   "source": [
    "val_df['user_id'].unique().shape"
   ]
  },
  {
   "cell_type": "code",
   "execution_count": 6,
   "metadata": {},
   "outputs": [
    {
     "data": {
      "text/plain": [
       "(64658,)"
      ]
     },
     "execution_count": 6,
     "metadata": {},
     "output_type": "execute_result"
    }
   ],
   "source": [
    "test_df['user_id'].unique().shape"
   ]
  },
  {
   "cell_type": "code",
   "execution_count": 7,
   "metadata": {},
   "outputs": [
    {
     "data": {
      "text/plain": [
       "(49160,)"
      ]
     },
     "execution_count": 7,
     "metadata": {},
     "output_type": "execute_result"
    }
   ],
   "source": [
    "# Count number of businesses\n",
    "train_df['business_id'].unique().shape"
   ]
  },
  {
   "cell_type": "code",
   "execution_count": 8,
   "metadata": {},
   "outputs": [
    {
     "data": {
      "text/html": [
       "<div>\n",
       "<style scoped>\n",
       "    .dataframe tbody tr th:only-of-type {\n",
       "        vertical-align: middle;\n",
       "    }\n",
       "\n",
       "    .dataframe tbody tr th {\n",
       "        vertical-align: top;\n",
       "    }\n",
       "\n",
       "    .dataframe thead th {\n",
       "        text-align: right;\n",
       "    }\n",
       "</style>\n",
       "<table border=\"1\" class=\"dataframe\">\n",
       "  <thead>\n",
       "    <tr style=\"text-align: right;\">\n",
       "      <th></th>\n",
       "      <th>business_id</th>\n",
       "      <th>date</th>\n",
       "      <th>review_id</th>\n",
       "      <th>text</th>\n",
       "      <th>user_id</th>\n",
       "      <th>attributes</th>\n",
       "      <th>name</th>\n",
       "      <th>city</th>\n",
       "      <th>categories</th>\n",
       "      <th>avg_business_stars</th>\n",
       "      <th>avg_user_star</th>\n",
       "      <th>stars</th>\n",
       "    </tr>\n",
       "  </thead>\n",
       "  <tbody>\n",
       "    <tr>\n",
       "      <th>0</th>\n",
       "      <td>HMSDOjt_KCyknzjQ9aI5Jw</td>\n",
       "      <td>2018-11-04 23:44:27</td>\n",
       "      <td>0HWPTEnVT7L5BCKj33erLQ</td>\n",
       "      <td>I would like to start with the classic line \"I...</td>\n",
       "      <td>iGtInQDTZ89mKnkhFWdlfA</td>\n",
       "      <td>{'OutdoorSeating': 'True', 'RestaurantsGoodFor...</td>\n",
       "      <td>Tomo Noodles and Dumplings</td>\n",
       "      <td>Las Vegas</td>\n",
       "      <td>Noodles, Restaurants, Japanese, Ramen</td>\n",
       "      <td>4.0</td>\n",
       "      <td>3.04</td>\n",
       "      <td>1.0</td>\n",
       "    </tr>\n",
       "    <tr>\n",
       "      <th>1</th>\n",
       "      <td>yXiDD18UV49-7UhA6dWjAw</td>\n",
       "      <td>2018-09-07 20:41:42</td>\n",
       "      <td>Y6xCQlzc9YTXD3IKMGN-oQ</td>\n",
       "      <td>We come here for once at least once a month. I...</td>\n",
       "      <td>O3cItff0mKAfXtl5VmbW2w</td>\n",
       "      <td>{'GoodForMeal': \"{'dessert': False, 'latenight...</td>\n",
       "      <td>Giacomo's Pizzeria and Italian Restaurant</td>\n",
       "      <td>Charlotte</td>\n",
       "      <td>Sandwiches, Pizza, Italian, Restaurants, Event...</td>\n",
       "      <td>4.0</td>\n",
       "      <td>4.15</td>\n",
       "      <td>4.0</td>\n",
       "    </tr>\n",
       "    <tr>\n",
       "      <th>2</th>\n",
       "      <td>VSNUFYBQ_wOFmRXZ8SeQ4w</td>\n",
       "      <td>2015-09-30 02:07:55</td>\n",
       "      <td>9j_uLXkEgpN52Lz5VJ8sMQ</td>\n",
       "      <td>First meal in Pittsburgh was courtesy of S&amp;D! ...</td>\n",
       "      <td>U5YQX_vMl_xQy8EQDqlNQQ</td>\n",
       "      <td>{'Alcohol': \"u'none'\", 'DogsAllowed': 'False',...</td>\n",
       "      <td>S&amp;D Polish Deli</td>\n",
       "      <td>Pittsburgh</td>\n",
       "      <td>Polish, Ethnic Food, Specialty Food, Food, Res...</td>\n",
       "      <td>4.5</td>\n",
       "      <td>3.48</td>\n",
       "      <td>4.0</td>\n",
       "    </tr>\n",
       "    <tr>\n",
       "      <th>3</th>\n",
       "      <td>lVVJMvqu4LXL5rBqjO6eqg</td>\n",
       "      <td>2015-05-30 07:40:17</td>\n",
       "      <td>xilO0UqpI_EYJg0nzTBqzw</td>\n",
       "      <td>The Pork bone soup is delicious! The broth loo...</td>\n",
       "      <td>JrgMipJRhagq42ROTzC_CQ</td>\n",
       "      <td>{'HasTV': 'False', 'WiFi': \"u'no'\", 'BusinessP...</td>\n",
       "      <td>Tofu Village - House of Soon Tofu</td>\n",
       "      <td>Toronto</td>\n",
       "      <td>Restaurants, Korean</td>\n",
       "      <td>4.5</td>\n",
       "      <td>2.53</td>\n",
       "      <td>4.0</td>\n",
       "    </tr>\n",
       "    <tr>\n",
       "      <th>4</th>\n",
       "      <td>EEIz44ewHhOKmfTloAK13g</td>\n",
       "      <td>2017-11-19 16:47:26</td>\n",
       "      <td>P5LDWTH6cxQK-_IWtvyOWw</td>\n",
       "      <td>Words cannot express how delectably divine a d...</td>\n",
       "      <td>8lofUN7rFkwT2bw4b5SM4g</td>\n",
       "      <td>{'RestaurantsPriceRange2': '4', 'RestaurantsTa...</td>\n",
       "      <td>Alo Restaurant</td>\n",
       "      <td>Toronto</td>\n",
       "      <td>Bars, Nightlife, Restaurants, French</td>\n",
       "      <td>4.5</td>\n",
       "      <td>3.97</td>\n",
       "      <td>5.0</td>\n",
       "    </tr>\n",
       "  </tbody>\n",
       "</table>\n",
       "</div>"
      ],
      "text/plain": [
       "              business_id                 date               review_id  \\\n",
       "0  HMSDOjt_KCyknzjQ9aI5Jw  2018-11-04 23:44:27  0HWPTEnVT7L5BCKj33erLQ   \n",
       "1  yXiDD18UV49-7UhA6dWjAw  2018-09-07 20:41:42  Y6xCQlzc9YTXD3IKMGN-oQ   \n",
       "2  VSNUFYBQ_wOFmRXZ8SeQ4w  2015-09-30 02:07:55  9j_uLXkEgpN52Lz5VJ8sMQ   \n",
       "3  lVVJMvqu4LXL5rBqjO6eqg  2015-05-30 07:40:17  xilO0UqpI_EYJg0nzTBqzw   \n",
       "4  EEIz44ewHhOKmfTloAK13g  2017-11-19 16:47:26  P5LDWTH6cxQK-_IWtvyOWw   \n",
       "\n",
       "                                                text                 user_id  \\\n",
       "0  I would like to start with the classic line \"I...  iGtInQDTZ89mKnkhFWdlfA   \n",
       "1  We come here for once at least once a month. I...  O3cItff0mKAfXtl5VmbW2w   \n",
       "2  First meal in Pittsburgh was courtesy of S&D! ...  U5YQX_vMl_xQy8EQDqlNQQ   \n",
       "3  The Pork bone soup is delicious! The broth loo...  JrgMipJRhagq42ROTzC_CQ   \n",
       "4  Words cannot express how delectably divine a d...  8lofUN7rFkwT2bw4b5SM4g   \n",
       "\n",
       "                                          attributes  \\\n",
       "0  {'OutdoorSeating': 'True', 'RestaurantsGoodFor...   \n",
       "1  {'GoodForMeal': \"{'dessert': False, 'latenight...   \n",
       "2  {'Alcohol': \"u'none'\", 'DogsAllowed': 'False',...   \n",
       "3  {'HasTV': 'False', 'WiFi': \"u'no'\", 'BusinessP...   \n",
       "4  {'RestaurantsPriceRange2': '4', 'RestaurantsTa...   \n",
       "\n",
       "                                        name        city  \\\n",
       "0                 Tomo Noodles and Dumplings   Las Vegas   \n",
       "1  Giacomo's Pizzeria and Italian Restaurant   Charlotte   \n",
       "2                            S&D Polish Deli  Pittsburgh   \n",
       "3          Tofu Village - House of Soon Tofu     Toronto   \n",
       "4                             Alo Restaurant     Toronto   \n",
       "\n",
       "                                          categories  avg_business_stars  \\\n",
       "0              Noodles, Restaurants, Japanese, Ramen                 4.0   \n",
       "1  Sandwiches, Pizza, Italian, Restaurants, Event...                 4.0   \n",
       "2  Polish, Ethnic Food, Specialty Food, Food, Res...                 4.5   \n",
       "3                                Restaurants, Korean                 4.5   \n",
       "4               Bars, Nightlife, Restaurants, French                 4.5   \n",
       "\n",
       "   avg_user_star  stars  \n",
       "0           3.04    1.0  \n",
       "1           4.15    4.0  \n",
       "2           3.48    4.0  \n",
       "3           2.53    4.0  \n",
       "4           3.97    5.0  "
      ]
     },
     "execution_count": 8,
     "metadata": {},
     "output_type": "execute_result"
    }
   ],
   "source": [
    "train_df.head()"
   ]
  },
  {
   "cell_type": "code",
   "execution_count": null,
   "metadata": {},
   "outputs": [],
   "source": []
  },
  {
   "cell_type": "markdown",
   "metadata": {},
   "source": [
    "## Feature Extraction\n",
    "\n",
    "- This part converts certain columns to a workable format (string to dict, string to list)"
   ]
  },
  {
   "cell_type": "code",
   "execution_count": 9,
   "metadata": {},
   "outputs": [],
   "source": [
    "def convert_str_to_dict(row):\n",
    "    return literal_eval(row)"
   ]
  },
  {
   "cell_type": "code",
   "execution_count": 10,
   "metadata": {},
   "outputs": [],
   "source": [
    "def convert_str_to_list(row):\n",
    "    l = row.strip().split(\",\")\n",
    "    for s in l:\n",
    "        s = s.strip()\n",
    "    return l"
   ]
  },
  {
   "cell_type": "code",
   "execution_count": 11,
   "metadata": {},
   "outputs": [],
   "source": [
    "train_df['attributes'] = train_df['attributes'].apply(convert_str_to_dict)\n",
    "val_df['attributes'] = val_df['attributes'].apply(convert_str_to_dict)\n",
    "\n",
    "train_df['categories'] = train_df['categories'].apply(convert_str_to_list)\n",
    "val_df['categories'] = val_df['categories'].apply(convert_str_to_list)\n"
   ]
  },
  {
   "cell_type": "code",
   "execution_count": 12,
   "metadata": {},
   "outputs": [
    {
     "data": {
      "text/plain": [
       "array([1., 4., 5., 3., 2.])"
      ]
     },
     "execution_count": 12,
     "metadata": {},
     "output_type": "execute_result"
    }
   ],
   "source": [
    "train_df['stars'].unique()"
   ]
  },
  {
   "cell_type": "code",
   "execution_count": 13,
   "metadata": {},
   "outputs": [],
   "source": [
    "# def convert_ratings(row):\n",
    "#     x = int(row)\n",
    "#     if x in [1, 2, 3]:\n",
    "#         new_rating = 0\n",
    "#     else:\n",
    "#         new_rating = 1\n",
    "#     return new_rating"
   ]
  },
  {
   "cell_type": "code",
   "execution_count": 14,
   "metadata": {},
   "outputs": [],
   "source": [
    "# train_df['likes'] = train_df['stars'].apply(convert_ratings)\n",
    "# val_df['likes'] = val_df['stars'].apply(convert_ratings)"
   ]
  },
  {
   "cell_type": "code",
   "execution_count": 15,
   "metadata": {},
   "outputs": [],
   "source": [
    "# train_df.columns"
   ]
  },
  {
   "cell_type": "code",
   "execution_count": 16,
   "metadata": {},
   "outputs": [],
   "source": [
    "# train_labels = train_df['stars']"
   ]
  },
  {
   "cell_type": "code",
   "execution_count": 17,
   "metadata": {},
   "outputs": [],
   "source": [
    "# val_labels = val_df['stars']"
   ]
  },
  {
   "cell_type": "code",
   "execution_count": 18,
   "metadata": {},
   "outputs": [],
   "source": [
    "train_df.drop(columns=['date', 'review_id', 'text'], inplace=True)\n",
    "val_df.drop(columns=['date', 'review_id', 'text'], inplace=True)"
   ]
  },
  {
   "cell_type": "code",
   "execution_count": 19,
   "metadata": {},
   "outputs": [
    {
     "name": "stdout",
     "output_type": "stream",
     "text": [
      "Index(['business_id', 'user_id', 'attributes', 'name', 'city', 'categories',\n",
      "       'avg_business_stars', 'avg_user_star', 'stars'],\n",
      "      dtype='object')\n",
      "Index(['business_id', 'user_id', 'attributes', 'name', 'city', 'categories',\n",
      "       'avg_business_stars', 'avg_user_star', 'stars'],\n",
      "      dtype='object')\n"
     ]
    }
   ],
   "source": [
    "print(train_df.columns)\n",
    "print(val_df.columns)"
   ]
  },
  {
   "cell_type": "code",
   "execution_count": 20,
   "metadata": {},
   "outputs": [],
   "source": [
    "def Value_To_Dict(val):\n",
    "    return {val:1}\n",
    "\n",
    "def List_To_Dict(the_list):\n",
    "    return {category:1 for category in the_list}\n",
    "    \n",
    "def Flatten_Dict(d, prekey = ''):\n",
    "    flat_dict = {}\n",
    "    for key in d:\n",
    "        if isinstance(d[key], bool) and d[key]:\n",
    "            flat_dict.update({prekey+'_'+key:1})\n",
    "        elif isinstance(d[key], str):\n",
    "            flat_dict.update({prekey+'_'+key+'_'+d[key]:1})\n",
    "        elif isinstance(d[key], dict):\n",
    "            flat_dict.update(Flatten_Dict(d[key], prekey=prekey+'_'+key))\n",
    "    return flat_dict\n"
   ]
  },
  {
   "cell_type": "code",
   "execution_count": 21,
   "metadata": {},
   "outputs": [],
   "source": [
    "class One_Hot_Encoder(base.BaseEstimator, base.TransformerMixin):\n",
    "    def __init__(self, colnames, value_type = 'value', sparse = True):\n",
    "        if value_type == 'value':\n",
    "            self.apply_function_ = Value_To_Dict\n",
    "        elif value_type == 'list':\n",
    "            self.apply_function_ = List_To_Dict\n",
    "        elif value_type == 'dict':\n",
    "            self.apply_function_ = Flatten_Dict\n",
    "        self.colnames_ = colnames\n",
    "        self.dv_ = DictVectorizer(sparse = sparse)\n",
    "\n",
    "    def fit(self, X, y = None):\n",
    "        self.dv_.fit(X[self.colnames_].apply(self.apply_function_))\n",
    "        return self\n",
    "\n",
    "    def transform(self, X):\n",
    "        return self.dv_.transform(X[self.colnames_].apply(self.apply_function_))"
   ]
  },
  {
   "cell_type": "code",
   "execution_count": 22,
   "metadata": {},
   "outputs": [],
   "source": [
    "class Column_Selector(base.BaseEstimator, base.TransformerMixin):\n",
    "    def __init__(self, colnames):\n",
    "        self.colnames_ = colnames\n",
    "\n",
    "    def fit(self, X, y = None):\n",
    "        return self\n",
    "\n",
    "    def transform(self, X):\n",
    "        return pd.DataFrame(X[self.colnames_])"
   ]
  },
  {
   "cell_type": "markdown",
   "metadata": {},
   "source": [
    "## Feature Extraction\n",
    "\n",
    "- Categories\n",
    "- Attributes\n",
    "- City\n",
    "- Average business rating"
   ]
  },
  {
   "cell_type": "code",
   "execution_count": 23,
   "metadata": {},
   "outputs": [],
   "source": [
    "# Create features for each restaurant\n",
    "\n",
    "encoding_category = One_Hot_Encoder('categories', 'list', sparse=False)\n",
    "encoding_attribute = One_Hot_Encoder('attributes', 'dict', sparse=False)\n",
    "encoding_city= One_Hot_Encoder('city', 'value', sparse=False)\n",
    "business_rating = Column_Selector(['avg_business_stars'])\n",
    "# user_rating = Column_Selector(['avg_user_star'])\n",
    "\n",
    "encoding_union = FeatureUnion([ ('cat', encoding_category), \n",
    "                               ('attr', encoding_attribute),\n",
    "                               ('city', encoding_city), \n",
    "                               ('avg_business_rating', business_rating),\n",
    "#                                ('avg_user_rating', user_rating)\n",
    "                              ])\n",
    "\n",
    "# Fit on all restaurants maybe?\n",
    "# encoding_union.fit(rest_df)\n",
    "\n",
    "train_features = encoding_union.fit_transform(train_df)\n",
    "val_features = encoding_union.transform(val_df)"
   ]
  },
  {
   "cell_type": "code",
   "execution_count": 24,
   "metadata": {},
   "outputs": [
    {
     "data": {
      "text/plain": [
       "(1078332, 2612)"
      ]
     },
     "execution_count": 24,
     "metadata": {},
     "output_type": "execute_result"
    }
   ],
   "source": [
    "train_features.shape"
   ]
  },
  {
   "cell_type": "code",
   "execution_count": 25,
   "metadata": {},
   "outputs": [
    {
     "data": {
      "text/plain": [
       "(269584, 2612)"
      ]
     },
     "execution_count": 25,
     "metadata": {},
     "output_type": "execute_result"
    }
   ],
   "source": [
    "val_features.shape"
   ]
  },
  {
   "cell_type": "markdown",
   "metadata": {},
   "source": [
    "## Create User Profiles using ML regression models\n",
    "\n",
    "- Maybe we don't scale the data to weight it more heavily on the average business ratings based on popularity?\n",
    "- Other wise:\n",
    "    - Scale the numeric features and one-hot encode the categorical ones."
   ]
  },
  {
   "cell_type": "code",
   "execution_count": 26,
   "metadata": {},
   "outputs": [],
   "source": [
    "# sc = MinMaxScaler()"
   ]
  },
  {
   "cell_type": "code",
   "execution_count": 26,
   "metadata": {},
   "outputs": [],
   "source": [
    "sc = StandardScaler()"
   ]
  },
  {
   "cell_type": "code",
   "execution_count": 27,
   "metadata": {},
   "outputs": [],
   "source": [
    "train_features[:, -1] = sc.fit_transform(train_features[:, -1].reshape(-1, 1))[:, 0]"
   ]
  },
  {
   "cell_type": "code",
   "execution_count": 28,
   "metadata": {},
   "outputs": [],
   "source": [
    "val_features[:, -1] = sc.transform(val_features[:, -1].reshape(-1, 1))[:, 0]"
   ]
  },
  {
   "cell_type": "code",
   "execution_count": 29,
   "metadata": {},
   "outputs": [
    {
     "data": {
      "text/plain": [
       "array([0.41442058, 0.41442058, 1.24652585, ..., 0.41442058, 0.41442058,\n",
       "       1.24652585])"
      ]
     },
     "execution_count": 29,
     "metadata": {},
     "output_type": "execute_result"
    }
   ],
   "source": [
    "train_features[:, -1]"
   ]
  },
  {
   "cell_type": "code",
   "execution_count": 30,
   "metadata": {},
   "outputs": [],
   "source": [
    "def lasso(train_feats, train_labels):\n",
    "    clf = Lasso()\n",
    "    clf.fit(train_feats, train_labels)\n",
    "    return clf\n",
    "\n",
    "def ridge(train_feats, train_labels):\n",
    "    clf = Ridge()\n",
    "    clf.fit(train_feats, train_labels)\n",
    "    return clf\n",
    "\n",
    "def elastic_net(train_feats, train_labels):\n",
    "    clf = ElasticNet()\n",
    "    clf.fit(train_feats, train_labels)\n",
    "    return clf\n",
    "\n",
    "def linear_regression(train_feats, train_labels):\n",
    "    clf = LinearRegression()\n",
    "    clf.fit(train_feats, train_labels)\n",
    "    return clf"
   ]
  },
  {
   "cell_type": "code",
   "execution_count": 31,
   "metadata": {},
   "outputs": [],
   "source": [
    "def test_algo(clf, test_feats, test_labels):\n",
    "    predictions = clf.predict(test_feats)\n",
    "#     print(predictions)\n",
    "#     f1 = f1_score(test_labels, predictions, average='binary')\n",
    "#     acc = balanced_accuracy_score(test_labels, predictions)\n",
    "    mse = mean_squared_error(test_labels, predictions)\n",
    "    mae = mean_absolute_error(test_labels, predictions)\n",
    "    return mse, mae"
   ]
  },
  {
   "cell_type": "code",
   "execution_count": 32,
   "metadata": {},
   "outputs": [],
   "source": [
    "unique_users = train_df['user_id'].unique()"
   ]
  },
  {
   "cell_type": "code",
   "execution_count": 33,
   "metadata": {},
   "outputs": [
    {
     "data": {
      "text/plain": [
       "(64658,)"
      ]
     },
     "execution_count": 33,
     "metadata": {},
     "output_type": "execute_result"
    }
   ],
   "source": [
    "unique_users.shape"
   ]
  },
  {
   "cell_type": "code",
   "execution_count": 34,
   "metadata": {},
   "outputs": [],
   "source": [
    "import csv\n",
    "import warnings\n",
    "warnings.filterwarnings('ignore') "
   ]
  },
  {
   "cell_type": "markdown",
   "metadata": {},
   "source": [
    "## Training and validating models for each user\n",
    "\n",
    "- Train each model on the user review ratings in train set, validate on validation set, and select best algorithm based on the algorithm that performed the best in terms of MSE and save that model. "
   ]
  },
  {
   "cell_type": "code",
   "execution_count": 37,
   "metadata": {},
   "outputs": [
    {
     "data": {
      "application/vnd.jupyter.widget-view+json": {
       "model_id": "c1417b5b52f44da290f87fa1573a087e",
       "version_major": 2,
       "version_minor": 0
      },
      "text/html": [
       "<p>Failed to display Jupyter Widget of type <code>HBox</code>.</p>\n",
       "<p>\n",
       "  If you're reading this message in the Jupyter Notebook or JupyterLab Notebook, it may mean\n",
       "  that the widgets JavaScript is still loading. If this message persists, it\n",
       "  likely means that the widgets JavaScript library is either not installed or\n",
       "  not enabled. See the <a href=\"https://ipywidgets.readthedocs.io/en/stable/user_install.html\">Jupyter\n",
       "  Widgets Documentation</a> for setup instructions.\n",
       "</p>\n",
       "<p>\n",
       "  If you're reading this message in another frontend (for example, a static\n",
       "  rendering on GitHub or <a href=\"https://nbviewer.jupyter.org/\">NBViewer</a>),\n",
       "  it may mean that your frontend doesn't currently support widgets.\n",
       "</p>\n"
      ],
      "text/plain": [
       "HBox(children=(IntProgress(value=0, max=64658), HTML(value='')))"
      ]
     },
     "metadata": {},
     "output_type": "display_data"
    },
    {
     "name": "stdout",
     "output_type": "stream",
     "text": [
      "\n"
     ]
    }
   ],
   "source": [
    "total_r_mse = 0.\n",
    "total_r_mae = 0.\n",
    "total_l_mse = 0.\n",
    "total_l_mae = 0.\n",
    "total_en_mse = 0.\n",
    "total_en_mae = 0.\n",
    "final_clf_list = []\n",
    "\n",
    "with open(\"content_based/regression/user_profile_minmax_scaled.csv\", \"w\") as output:\n",
    "    writer = csv.writer(output, delimiter=',')\n",
    "    writer.writerow(('user_id', 'Ridge', 'Lasso', 'ElasticNet', 'MIN', 'Best Model'))\n",
    "    for index, user in enumerate(tqdm(unique_users)):\n",
    "        train_inds = train_df[train_df['user_id'].values == user].index.values\n",
    "        val_inds = val_df[val_df['user_id'].values == user].index.values\n",
    "        \n",
    "    #     print(train_inds)\n",
    "    #     print(val_inds)\n",
    "        train_labels = train_df['stars'].values[train_inds]\n",
    "        val_labels = val_df['stars'].values[val_inds]\n",
    "    #     print(train_labels)\n",
    "    #     print(val_labls)\n",
    "        train_feats = train_features[train_inds]\n",
    "        val_feats = val_features[val_inds]\n",
    "\n",
    "        r_clf = ridge(train_feats, train_labels)\n",
    "        l_clf = lasso(train_feats, train_labels)\n",
    "        en_clf = elastic_net(train_feats, train_labels)\n",
    "\n",
    "        r_mse, r_mae = test_algo(r_clf, val_feats, val_labels)\n",
    "        l_mse, l_mae = test_algo(l_clf, val_feats, val_labels)\n",
    "        en_mse, en_mae = test_algo(en_clf, val_feats, val_labels)\n",
    "        \n",
    "#         writer.writerow((user, r_mse, l_mse, en_mse, min(r_mse, l_mse, en_mse)))\n",
    "        total_r_mse += r_mse\n",
    "        total_r_mae += r_mae\n",
    "        total_l_mse += l_mse\n",
    "        total_l_mae += l_mae\n",
    "        total_en_mse += en_mse\n",
    "        total_en_mae += en_mae\n",
    "        min_mse = min(r_mse, l_mse, en_mse)\n",
    "        final_clf = None\n",
    "        if r_mse == min_mse:\n",
    "            final_clf = r_clf\n",
    "        elif l_mse == min_mse:\n",
    "            final_clf = l_clf\n",
    "        else:\n",
    "            final_clf = en_clf\n",
    "        \n",
    "        # Append user_id and best model\n",
    "        final_clf_list.append((user, type(final_clf).__name__))\n",
    "        writer.writerow((user, r_mse, l_mse, en_mse, min(r_mse, l_mse, en_mse), type(final_clf).__name__))\n",
    "\n",
    "        \n",
    "total_r_mse /= len(unique_users)\n",
    "total_r_mae /= len(unique_users)\n",
    "total_l_mse /= len(unique_users)\n",
    "total_l_mae /= len(unique_users)\n",
    "total_en_mse /= len(unique_users)\n",
    "total_en_mae /= len(unique_users)"
   ]
  },
  {
   "cell_type": "code",
   "execution_count": 38,
   "metadata": {},
   "outputs": [
    {
     "name": "stdout",
     "output_type": "stream",
     "text": [
      "Total MSE: Ridge: 1.7431, Lasso: 1.5242, ElasticNet: 1.5252\n",
      "Total MAE: Ridge: 1.0195, Lasso: 0.9697, ElasticNet: 0.9695\n"
     ]
    }
   ],
   "source": [
    "print(\"Total MSE: Ridge: {:.4f}, Lasso: {:.4f}, ElasticNet: {:.4f}\".format(total_r_mse, total_l_mse, total_en_mse))\n",
    "print(\"Total MAE: Ridge: {:.4f}, Lasso: {:.4f}, ElasticNet: {:.4f}\".format(total_r_mae, total_l_mae, total_en_mae))"
   ]
  },
  {
   "cell_type": "code",
   "execution_count": 39,
   "metadata": {},
   "outputs": [],
   "source": [
    "# with open('content_based/regression/user_model_minmax_scaler.csv','w') as out:\n",
    "#     csv_out=csv.writer(out)\n",
    "#     csv_out.writerow(['user_id', 'best_model'])\n",
    "#     csv_out.writerows(final_clf_list)"
   ]
  },
  {
   "cell_type": "code",
   "execution_count": 51,
   "metadata": {},
   "outputs": [
    {
     "data": {
      "text/plain": [
       "1.2090078577081291"
      ]
     },
     "execution_count": 51,
     "metadata": {},
     "output_type": "execute_result"
    }
   ],
   "source": [
    "np.sqrt(1.4617)"
   ]
  },
  {
   "cell_type": "markdown",
   "metadata": {},
   "source": [
    "## Regression Experiments\n",
    "\n",
    "- Unscaled\n",
    "    - Total MSE: Ridge: 1.6542, Lasso: 1.5203, **ElasticNet: 1.5034**\n",
    "    - Total MAE: Ridge: 0.9913, Lasso: 0.9684, ElasticNet: 0.9625\n",
    "- Scaled (scale only average business ratings (numeric column))\n",
    "    - **StandardScaler**\n",
    "        - Total RMSE: Ridge: 1.2672, Lasso: 1.22479, **ElasticNet: 1.20901**\n",
    "        - Total MSE: Ridge: 1.6058, Lasso: 1.5001, **ElasticNet: 1.4617**\n",
    "        - Total MAE: Ridge: 0.9734, Lasso: 0.9611, ElasticNet: 0.9466\n",
    "    - **MinMaxScaler**\n",
    "        - Total MSE: Ridge: 1.7431, Lasso: 1.5242, ElasticNet: 1.5252\n",
    "        - Total MAE: Ridge: 1.0195, Lasso: 0.9697, ElasticNet: 0.9695\n",
    "        \n",
    "- [WRONG] Scaled (all columns) \n",
    "    - Total MSE: Ridge: 1.7691, Lasso: 1.7171, ElasticNet: 1.7868\n",
    "    - Total MAE: Ridge: 1.0242, Lasso: 0.9770, ElasticNet: 0.9838"
   ]
  },
  {
   "cell_type": "code",
   "execution_count": null,
   "metadata": {},
   "outputs": [],
   "source": []
  },
  {
   "cell_type": "markdown",
   "metadata": {},
   "source": [
    "## Final Evaluation on Test Set\n",
    "\n",
    "- Using the chosen models for each user"
   ]
  },
  {
   "cell_type": "code",
   "execution_count": 35,
   "metadata": {},
   "outputs": [],
   "source": [
    "user_profile_models = pd.read_csv(\"content_based/regression/user_model_standard_scaler.csv\")"
   ]
  },
  {
   "cell_type": "code",
   "execution_count": 36,
   "metadata": {},
   "outputs": [
    {
     "data": {
      "text/html": [
       "<div>\n",
       "<style scoped>\n",
       "    .dataframe tbody tr th:only-of-type {\n",
       "        vertical-align: middle;\n",
       "    }\n",
       "\n",
       "    .dataframe tbody tr th {\n",
       "        vertical-align: top;\n",
       "    }\n",
       "\n",
       "    .dataframe thead th {\n",
       "        text-align: right;\n",
       "    }\n",
       "</style>\n",
       "<table border=\"1\" class=\"dataframe\">\n",
       "  <thead>\n",
       "    <tr style=\"text-align: right;\">\n",
       "      <th></th>\n",
       "      <th>user_id</th>\n",
       "      <th>best_model</th>\n",
       "    </tr>\n",
       "  </thead>\n",
       "  <tbody>\n",
       "    <tr>\n",
       "      <th>0</th>\n",
       "      <td>iGtInQDTZ89mKnkhFWdlfA</td>\n",
       "      <td>Lasso</td>\n",
       "    </tr>\n",
       "    <tr>\n",
       "      <th>1</th>\n",
       "      <td>O3cItff0mKAfXtl5VmbW2w</td>\n",
       "      <td>Lasso</td>\n",
       "    </tr>\n",
       "    <tr>\n",
       "      <th>2</th>\n",
       "      <td>U5YQX_vMl_xQy8EQDqlNQQ</td>\n",
       "      <td>Lasso</td>\n",
       "    </tr>\n",
       "    <tr>\n",
       "      <th>3</th>\n",
       "      <td>JrgMipJRhagq42ROTzC_CQ</td>\n",
       "      <td>Lasso</td>\n",
       "    </tr>\n",
       "    <tr>\n",
       "      <th>4</th>\n",
       "      <td>8lofUN7rFkwT2bw4b5SM4g</td>\n",
       "      <td>Lasso</td>\n",
       "    </tr>\n",
       "  </tbody>\n",
       "</table>\n",
       "</div>"
      ],
      "text/plain": [
       "                  user_id best_model\n",
       "0  iGtInQDTZ89mKnkhFWdlfA      Lasso\n",
       "1  O3cItff0mKAfXtl5VmbW2w      Lasso\n",
       "2  U5YQX_vMl_xQy8EQDqlNQQ      Lasso\n",
       "3  JrgMipJRhagq42ROTzC_CQ      Lasso\n",
       "4  8lofUN7rFkwT2bw4b5SM4g      Lasso"
      ]
     },
     "execution_count": 36,
     "metadata": {},
     "output_type": "execute_result"
    }
   ],
   "source": [
    "user_profile_models.head()"
   ]
  },
  {
   "cell_type": "code",
   "execution_count": 37,
   "metadata": {},
   "outputs": [],
   "source": [
    "test_df['attributes'] = test_df['attributes'].apply(convert_str_to_dict)\n",
    "test_df['categories'] = test_df['categories'].apply(convert_str_to_list)"
   ]
  },
  {
   "cell_type": "code",
   "execution_count": 38,
   "metadata": {},
   "outputs": [],
   "source": [
    "test_df.drop(columns=['date', 'review_id', 'text'], inplace=True)"
   ]
  },
  {
   "cell_type": "code",
   "execution_count": 39,
   "metadata": {},
   "outputs": [],
   "source": [
    "test_features = encoding_union.transform(test_df)"
   ]
  },
  {
   "cell_type": "code",
   "execution_count": 40,
   "metadata": {},
   "outputs": [],
   "source": [
    "test_features[:, -1] = sc.transform(test_features[:, -1].reshape(-1, 1))[:, 0]"
   ]
  },
  {
   "cell_type": "code",
   "execution_count": 41,
   "metadata": {},
   "outputs": [],
   "source": [
    "test_unique_users = test_df['user_id'].values"
   ]
  },
  {
   "cell_type": "code",
   "execution_count": 46,
   "metadata": {},
   "outputs": [
    {
     "data": {
      "application/vnd.jupyter.widget-view+json": {
       "model_id": "560bf695652b49ebafa4b636a3f7bcbd",
       "version_major": 2,
       "version_minor": 0
      },
      "text/html": [
       "<p>Failed to display Jupyter Widget of type <code>HBox</code>.</p>\n",
       "<p>\n",
       "  If you're reading this message in the Jupyter Notebook or JupyterLab Notebook, it may mean\n",
       "  that the widgets JavaScript is still loading. If this message persists, it\n",
       "  likely means that the widgets JavaScript library is either not installed or\n",
       "  not enabled. See the <a href=\"https://ipywidgets.readthedocs.io/en/stable/user_install.html\">Jupyter\n",
       "  Widgets Documentation</a> for setup instructions.\n",
       "</p>\n",
       "<p>\n",
       "  If you're reading this message in another frontend (for example, a static\n",
       "  rendering on GitHub or <a href=\"https://nbviewer.jupyter.org/\">NBViewer</a>),\n",
       "  it may mean that your frontend doesn't currently support widgets.\n",
       "</p>\n"
      ],
      "text/plain": [
       "HBox(children=(IntProgress(value=0, max=336980), HTML(value='')))"
      ]
     },
     "metadata": {},
     "output_type": "display_data"
    },
    {
     "name": "stdout",
     "output_type": "stream",
     "text": [
      "\n"
     ]
    }
   ],
   "source": [
    "total_test_mse = 0.\n",
    "total_test_mae = 0.\n",
    "\n",
    "for index, user in enumerate(tqdm(test_unique_users)):\n",
    "    train_inds = train_df[train_df['user_id'].values == user].index.values\n",
    "    test_inds = test_df[test_df['user_id'].values == user].index.values\n",
    "    \n",
    "    train_labels = train_df['stars'].values[train_inds]\n",
    "    test_labels = test_df['stars'].values[test_inds]\n",
    "    \n",
    "    train_feats = train_features[train_inds]\n",
    "    test_feats = test_features[test_inds]\n",
    "    \n",
    "    active_user_model = user_profile_models[user_profile_models['user_id'].values == user]['best_model'].values[0]\n",
    "#     print(active_user_model)\n",
    "    user_clf = None\n",
    "    if active_user_model == \"Ridge\":\n",
    "        user_clf = ridge(train_feats, train_labels)\n",
    "    elif active_user_model == \"Lasso\":\n",
    "        user_clf = lasso(train_feats, train_labels)\n",
    "    else:\n",
    "        user_clf = elastic_net(train_feats, train_labels)\n",
    "    \n",
    "    u_mse, u_mae = test_algo(user_clf, test_feats, test_labels)\n",
    "    total_test_mse += u_mse\n",
    "    total_test_mae += u_mae\n",
    "\n",
    "total_test_mse /= len(test_unique_users)\n",
    "total_test_mae /= len(test_unique_users)  "
   ]
  },
  {
   "cell_type": "code",
   "execution_count": 48,
   "metadata": {},
   "outputs": [
    {
     "name": "stdout",
     "output_type": "stream",
     "text": [
      "Test set results, Test MSE: 1.3339, Test MAE: 0.8984\n"
     ]
    }
   ],
   "source": [
    "print(\"Test MSE: {:.4f}, Test MAE: {:.4f}\".format(total_test_mse, total_test_mae))"
   ]
  },
  {
   "cell_type": "markdown",
   "metadata": {},
   "source": [
    "## Test Results (average MSE and MAE per user)\n",
    "\n",
    "- Scaled with standard scaler\n",
    "    - Test RMSE: 1.15495\n",
    "    - Test MSE: 1.3339, Test MAE: 0.8984"
   ]
  },
  {
   "cell_type": "code",
   "execution_count": null,
   "metadata": {},
   "outputs": [],
   "source": []
  }
 ],
 "metadata": {
  "kernelspec": {
   "display_name": "Python 3",
   "language": "python",
   "name": "python3"
  },
  "language_info": {
   "codemirror_mode": {
    "name": "ipython",
    "version": 3
   },
   "file_extension": ".py",
   "mimetype": "text/x-python",
   "name": "python",
   "nbconvert_exporter": "python",
   "pygments_lexer": "ipython3",
   "version": "3.7.4"
  }
 },
 "nbformat": 4,
 "nbformat_minor": 4
}
