{
 "cells": [
  {
   "cell_type": "code",
   "execution_count": 19,
   "metadata": {},
   "outputs": [],
   "source": [
    "import pandas as pd\n",
    "import numpy as np\n",
    "\n",
    "from collections import defaultdict\n",
    "from surprise import SVD\n",
    "from surprise import SVDpp\n",
    "from surprise import accuracy\n",
    "from surprise import Reader, Dataset, SVD, evaluate\n",
    "from surprise.model_selection import cross_validate\n",
    "from surprise import BaselineOnly\n",
    "from surprise.model_selection import train_test_split"
   ]
  },
  {
   "cell_type": "code",
   "execution_count": 3,
   "metadata": {},
   "outputs": [
    {
     "data": {
      "text/plain": [
       "(1076577, 12)"
      ]
     },
     "execution_count": 3,
     "metadata": {},
     "output_type": "execute_result"
    }
   ],
   "source": [
    "#Read the train and test dataset\n",
    "train_dataFrame = pd.read_csv('/Users/saranggrover/Desktop/yelp-dataset/train.csv')\n",
    "test_dataFrame = pd.read_csv('/Users/saranggrover/Desktop/yelp-dataset/test.csv')\n",
    "train_dataFrame.shape"
   ]
  },
  {
   "cell_type": "code",
   "execution_count": 4,
   "metadata": {},
   "outputs": [
    {
     "data": {
      "text/plain": [
       "(336431, 12)"
      ]
     },
     "execution_count": 4,
     "metadata": {},
     "output_type": "execute_result"
    }
   ],
   "source": [
    "test_dataFrame.shape"
   ]
  },
  {
   "cell_type": "code",
   "execution_count": 5,
   "metadata": {},
   "outputs": [],
   "source": [
    "reader = Reader()\n",
    "trainedData = Dataset.load_from_df(train_dataFrame[['user_id', 'business_id', 'stars']], reader)"
   ]
  },
  {
   "cell_type": "code",
   "execution_count": 6,
   "metadata": {},
   "outputs": [],
   "source": [
    "trainedDataset, testDataset = train_test_split(trainedData, test_size=0.20)"
   ]
  },
  {
   "cell_type": "code",
   "execution_count": 7,
   "metadata": {},
   "outputs": [
    {
     "name": "stdout",
     "output_type": "stream",
     "text": [
      "Estimating biases using als...\n"
     ]
    }
   ],
   "source": [
    "#Applying Baseline Model\n",
    "params = {'method': 'als','n_epochs': 10,'reg_u': 5, 'reg_i': 8}\n",
    "baseline = BaselineOnly(bsl_options=params)\n",
    "baseline_predictions = baseline.fit(trainedDataset).test(testDataset)\n"
   ]
  },
  {
   "cell_type": "code",
   "execution_count": 8,
   "metadata": {},
   "outputs": [
    {
     "name": "stdout",
     "output_type": "stream",
     "text": [
      "RMSE: 1.0782\n"
     ]
    },
    {
     "data": {
      "text/plain": [
       "1.0781525947951247"
      ]
     },
     "execution_count": 8,
     "metadata": {},
     "output_type": "execute_result"
    }
   ],
   "source": [
    "accuracy.rmse(baseline_predictions)"
   ]
  },
  {
   "cell_type": "code",
   "execution_count": 9,
   "metadata": {},
   "outputs": [
    {
     "name": "stdout",
     "output_type": "stream",
     "text": [
      "Estimating biases using als...\n",
      "Estimating biases using als...\n",
      "Estimating biases using als...\n",
      "Estimating biases using als...\n",
      "Estimating biases using als...\n",
      "Evaluating RMSE of algorithm BaselineOnly on 5 split(s).\n",
      "\n",
      "                  Fold 1  Fold 2  Fold 3  Fold 4  Fold 5  Mean    Std     \n",
      "RMSE (testset)    1.0770  1.0782  1.0779  1.0766  1.0804  1.0780  0.0013  \n",
      "RMSE (trainset)   0.9911  0.9909  0.9910  0.9912  0.9902  0.9909  0.0003  \n",
      "Fit time          4.58    4.99    5.02    5.01    5.05    4.93    0.18    \n",
      "Test time         1.77    1.05    2.14    2.13    1.62    1.74    0.40    \n"
     ]
    },
    {
     "data": {
      "text/plain": [
       "{'test_rmse': array([1.07697954, 1.07816723, 1.07791488, 1.0766204 , 1.08043231]),\n",
       " 'train_rmse': array([0.99110984, 0.99092616, 0.99096369, 0.99120331, 0.99021652]),\n",
       " 'fit_time': (4.580384016036987,\n",
       "  4.9860169887542725,\n",
       "  5.021322965621948,\n",
       "  5.009507656097412,\n",
       "  5.0467140674591064),\n",
       " 'test_time': (1.77125883102417,\n",
       "  1.0483298301696777,\n",
       "  2.1427419185638428,\n",
       "  2.133183002471924,\n",
       "  1.618299961090088)}"
      ]
     },
     "execution_count": 9,
     "metadata": {},
     "output_type": "execute_result"
    }
   ],
   "source": [
    "cross_validate(baseline, trainedData, measures=['RMSE'], cv=5,return_train_measures=True,verbose=True)"
   ]
  },
  {
   "cell_type": "code",
   "execution_count": 54,
   "metadata": {},
   "outputs": [
    {
     "name": "stdout",
     "output_type": "stream",
     "text": [
      "Processing epoch 0\n",
      "Processing epoch 1\n",
      "Processing epoch 2\n",
      "Processing epoch 3\n",
      "Processing epoch 4\n",
      "Processing epoch 5\n",
      "Processing epoch 6\n",
      "Processing epoch 7\n",
      "Processing epoch 8\n",
      "Processing epoch 9\n",
      "Processing epoch 10\n",
      "Processing epoch 11\n",
      "Processing epoch 12\n",
      "Processing epoch 13\n",
      "Processing epoch 14\n",
      "Processing epoch 15\n",
      "Processing epoch 16\n",
      "Processing epoch 17\n",
      "Processing epoch 18\n",
      "Processing epoch 19\n",
      "RMSE: 1.0815\n"
     ]
    },
    {
     "data": {
      "text/plain": [
       "1.0815456077110763"
      ]
     },
     "execution_count": 54,
     "metadata": {},
     "output_type": "execute_result"
    }
   ],
   "source": [
    "#Applying SVD\n",
    "svd = SVD(n_factors=20,n_epochs=20,biased=True,init_mean=0,verbose=True)\n",
    "svd.fit(trainedDataset)\n",
    "predictions_svd = svd.test(testDataset)\n",
    "accuracy.rmse(predictions_svd, verbose=True)"
   ]
  },
  {
   "cell_type": "code",
   "execution_count": 53,
   "metadata": {},
   "outputs": [
    {
     "name": "stdout",
     "output_type": "stream",
     "text": [
      " processing epoch 0\n",
      " processing epoch 1\n",
      " processing epoch 2\n",
      " processing epoch 3\n",
      " processing epoch 4\n",
      " processing epoch 5\n",
      " processing epoch 6\n",
      " processing epoch 7\n",
      " processing epoch 8\n",
      " processing epoch 9\n",
      " processing epoch 10\n",
      " processing epoch 11\n",
      " processing epoch 12\n",
      " processing epoch 13\n",
      " processing epoch 14\n",
      " processing epoch 15\n",
      " processing epoch 16\n",
      " processing epoch 17\n",
      " processing epoch 18\n",
      " processing epoch 19\n",
      "RMSE: 1.0802\n"
     ]
    },
    {
     "data": {
      "text/plain": [
       "1.0801972534287216"
      ]
     },
     "execution_count": 53,
     "metadata": {},
     "output_type": "execute_result"
    }
   ],
   "source": [
    "#Applying SVDPP\n",
    "svdpp = SVDpp(n_factors=20,n_epochs=20,init_mean=0,verbose=True)\n",
    "svdpp.fit(trainedDataset)\n",
    "predictions_svdpp = svd.test(testDataset)\n",
    "accuracy.rmse(predictions_svdpp, verbose=True)\n"
   ]
  },
  {
   "cell_type": "code",
   "execution_count": 15,
   "metadata": {},
   "outputs": [],
   "source": [
    "#Now we have the 3 models,getting recommendations on the test Data\n",
    "userArray = np.array(test_dataFrame['user_id'])\n",
    "userList = userArray.tolist() \n",
    "\n",
    "restaurantArray = np.array(test_dataFrame['business_id'])\n",
    "restaurantList = restaurantArray.tolist()"
   ]
  },
  {
   "cell_type": "code",
   "execution_count": 65,
   "metadata": {},
   "outputs": [],
   "source": [
    "#Predicting ratings using the Baseline model \n",
    "baseLinePredictionsArray = []\n",
    "\n",
    "for item in range(len(test_dataFrame)):\n",
    "    baseLinePredictionsArray.append(round(baseline.predict(userList[item], restaurantList[item])[3], 2)) \n",
    "    \n"
   ]
  },
  {
   "cell_type": "code",
   "execution_count": 66,
   "metadata": {},
   "outputs": [],
   "source": [
    "#Predicting ratings using svd\n",
    "svdpredictionsArray = []\n",
    "\n",
    "for item in range(len(test_dataFrame)):\n",
    "    svdpredictionsArray.append(round(svd.predict(userList[item], restaurantList[item])[3], 2)) \n",
    "                  \n"
   ]
  },
  {
   "cell_type": "code",
   "execution_count": 67,
   "metadata": {},
   "outputs": [],
   "source": [
    "#Predicting ratings using SVDPP\n",
    "svdppPredictions = []\n",
    "\n",
    "for item in range(len(test_dataFrame)):\n",
    "    svdppPredictions.append(round(svdpp.predict(userList[item], restaurantList[item])[3], 2)) \n",
    "    \n"
   ]
  },
  {
   "cell_type": "code",
   "execution_count": 21,
   "metadata": {},
   "outputs": [
    {
     "name": "stdout",
     "output_type": "stream",
     "text": [
      "user: reJ7c2yq3f8dODMslzODUQ item: 9xSwne4GjwZ6Hlzdx2Zszg r_ui = 4.00   est = 3.96   {'was_impossible': False}\n"
     ]
    }
   ],
   "source": [
    "print(baseline_predictions[0])"
   ]
  },
  {
   "cell_type": "code",
   "execution_count": 61,
   "metadata": {},
   "outputs": [],
   "source": [
    "#Custom method to get top 3 recommendations \n",
    "def top_restaurant_recommendations(predictionArray, topN = 3):\n",
    "    topRecommendations = defaultdict(list)\n",
    "    for user, item, r_ui, est, _ in predictionArray:\n",
    "        topRecommendations[user].append((item, est))\n",
    "     \n",
    "    for user_id, user_ratings in topRecommendations.items():\n",
    "        user_ratings.sort(key = lambda x: x[1], reverse = True)\n",
    "        topRecommendations[userid] = user_ratings[:topN]\n",
    "     \n",
    "    return topRecommendations"
   ]
  },
  {
   "cell_type": "code",
   "execution_count": 62,
   "metadata": {},
   "outputs": [],
   "source": [
    "topRecommendations = top_restaurant_recommendations(baseline_predictions)"
   ]
  },
  {
   "cell_type": "code",
   "execution_count": 63,
   "metadata": {},
   "outputs": [
    {
     "name": "stdout",
     "output_type": "stream",
     "text": [
      "user reJ7c2yq3f8dODMslzODUQ\n",
      "item RdUsJhX11B0gENNc4Ml5vw\n",
      "item oM8GqWtU1_ld7lLnYe3KcA\n",
      "item 9xSwne4GjwZ6Hlzdx2Zszg\n"
     ]
    }
   ],
   "source": [
    "i=0;\n",
    "restaurant_list = []\n",
    "for userid, user_ratings in top_recommendations.items():\n",
    "    print(\"user\", userid)\n",
    "    for (itemid, _) in user_ratings:\n",
    "        restaurant_list.append(itemid)\n",
    "        print(\"item\", itemid)\n",
    "    i=i+1;\n",
    "    if(i==1):\n",
    "        break;"
   ]
  },
  {
   "cell_type": "code",
   "execution_count": 64,
   "metadata": {},
   "outputs": [
    {
     "name": "stdout",
     "output_type": "stream",
     "text": [
      "Restaurant Recommendations for userid reJ7c2yq3f8dODMslzODUQ :  ['Sausagefest' 'Deville Dinerbar' 'Cacao 70']\n"
     ]
    }
   ],
   "source": [
    "for i in range(len(test_dataFrame)):\n",
    "    if test_dataFrame['user_id'][i] == 'reJ7c2yq3f8dODMslzODUQ':\n",
    "        print(\"Restaurant Recommendations for userid reJ7c2yq3f8dODMslzODUQ : \",test_dataFrame[test_dataFrame['business_id'].isin(item_list)]['name'].unique())\n",
    "        break"
   ]
  },
  {
   "cell_type": "code",
   "execution_count": null,
   "metadata": {},
   "outputs": [],
   "source": []
  }
 ],
 "metadata": {
  "kernelspec": {
   "display_name": "Python 3",
   "language": "python",
   "name": "python3"
  },
  "language_info": {
   "codemirror_mode": {
    "name": "ipython",
    "version": 3
   },
   "file_extension": ".py",
   "mimetype": "text/x-python",
   "name": "python",
   "nbconvert_exporter": "python",
   "pygments_lexer": "ipython3",
   "version": "3.6.5"
  }
 },
 "nbformat": 4,
 "nbformat_minor": 2
}
