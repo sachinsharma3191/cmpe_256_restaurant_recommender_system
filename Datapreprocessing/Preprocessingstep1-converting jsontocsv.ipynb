{
 "cells": [
  {
   "cell_type": "code",
   "execution_count": 1,
   "metadata": {},
   "outputs": [],
   "source": [
    "import pandas as pd\n",
    "import numpy as np\n",
    "import json"
   ]
  },
  {
   "cell_type": "code",
   "execution_count": 5,
   "metadata": {},
   "outputs": [
    {
     "data": {
      "text/plain": [
       "(192609, 14)"
      ]
     },
     "execution_count": 5,
     "metadata": {},
     "output_type": "execute_result"
    }
   ],
   "source": [
    "## Reading the business file \n",
    "business_dataFrame = pd.read_json(\"/Users/saranggrover/Desktop/yelp-dataset/yelp_academic_dataset_business.json\", lines=True)\n",
    "business_dataFrame.shape"
   ]
  },
  {
   "cell_type": "code",
   "execution_count": 6,
   "metadata": {},
   "outputs": [
    {
     "data": {
      "text/plain": [
       "(158525, 14)"
      ]
     },
     "execution_count": 6,
     "metadata": {},
     "output_type": "execute_result"
    }
   ],
   "source": [
    "#filtering out closed business \n",
    "business_dataFrame = business_dataFrame[business_dataFrame['is_open'] == 1]\n",
    "business_dataFrame.shape"
   ]
  },
  {
   "cell_type": "code",
   "execution_count": 8,
   "metadata": {},
   "outputs": [],
   "source": [
    "# Converting to csv\n",
    "business_dataFrame.to_csv(\"/Users/saranggrover/Desktop/yelp-dataset/business.csv\",index=False)"
   ]
  },
  {
   "cell_type": "code",
   "execution_count": 10,
   "metadata": {},
   "outputs": [],
   "source": [
    "#Reading the users file\n",
    "with open('/Users/saranggrover/Desktop/yelp-dataset/yelp_academic_dataset_user.json') as json_file:      \n",
    "    userData = json_file.readlines()\n",
    "    userData = list(map(json.loads, userData))\n",
    "   "
   ]
  },
  {
   "cell_type": "code",
   "execution_count": 11,
   "metadata": {},
   "outputs": [
    {
     "data": {
      "text/plain": [
       "(1637138, 22)"
      ]
     },
     "execution_count": 11,
     "metadata": {},
     "output_type": "execute_result"
    }
   ],
   "source": [
    "#Converting user data into dataframes\n",
    "user_dataFrame = pd.DataFrame(userData)\n",
    "user_dataFrame.shape"
   ]
  },
  {
   "cell_type": "code",
   "execution_count": 16,
   "metadata": {},
   "outputs": [],
   "source": [
    "#Converting to csv\n",
    "user_dataFrame.to_csv(\"/Users/saranggrover/Desktop/yelp-dataset/users.csv\",index=False)"
   ]
  },
  {
   "cell_type": "code",
   "execution_count": 13,
   "metadata": {},
   "outputs": [],
   "source": [
    "#Reading the reviews file\n",
    "with open('/Users/saranggrover/Desktop/yelp-dataset/yelp_academic_dataset_review.json') as json_file:      \n",
    "    reviewsData = json_file.readlines()\n",
    "    reviewsData = list(map(json.loads, reviewsData)) "
   ]
  },
  {
   "cell_type": "code",
   "execution_count": 14,
   "metadata": {},
   "outputs": [
    {
     "data": {
      "text/plain": [
       "(6685900, 9)"
      ]
     },
     "execution_count": 14,
     "metadata": {},
     "output_type": "execute_result"
    }
   ],
   "source": [
    "#Converting reviews data into dataframes\n",
    "review_DataFrame = pd.DataFrame(reviewsData)\n",
    "review_DataFrame.shape"
   ]
  },
  {
   "cell_type": "code",
   "execution_count": 15,
   "metadata": {},
   "outputs": [],
   "source": [
    "#Converting to csv\n",
    "review_DataFrame.to_csv(\"/Users/saranggrover/Desktop/yelp-dataset/reviews.csv\",index=False)"
   ]
  },
  {
   "cell_type": "code",
   "execution_count": null,
   "metadata": {},
   "outputs": [],
   "source": []
  }
 ],
 "metadata": {
  "kernelspec": {
   "display_name": "Python 3",
   "language": "python",
   "name": "python3"
  },
  "language_info": {
   "codemirror_mode": {
    "name": "ipython",
    "version": 3
   },
   "file_extension": ".py",
   "mimetype": "text/x-python",
   "name": "python",
   "nbconvert_exporter": "python",
   "pygments_lexer": "ipython3",
   "version": "3.6.5"
  }
 },
 "nbformat": 4,
 "nbformat_minor": 2
}
