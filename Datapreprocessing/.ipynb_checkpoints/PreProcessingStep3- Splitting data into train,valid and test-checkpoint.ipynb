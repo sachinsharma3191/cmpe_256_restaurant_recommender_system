{
 "cells": [
  {
   "cell_type": "code",
   "execution_count": 3,
   "metadata": {},
   "outputs": [],
   "source": [
    "import pandas as pd\n",
    "import numpy as np\n",
    "from sklearn.model_selection import train_test_split\n"
   ]
  },
  {
   "cell_type": "code",
   "execution_count": 2,
   "metadata": {},
   "outputs": [
    {
     "data": {
      "text/html": [
       "<div>\n",
       "<style scoped>\n",
       "    .dataframe tbody tr th:only-of-type {\n",
       "        vertical-align: middle;\n",
       "    }\n",
       "\n",
       "    .dataframe tbody tr th {\n",
       "        vertical-align: top;\n",
       "    }\n",
       "\n",
       "    .dataframe thead th {\n",
       "        text-align: right;\n",
       "    }\n",
       "</style>\n",
       "<table border=\"1\" class=\"dataframe\">\n",
       "  <thead>\n",
       "    <tr style=\"text-align: right;\">\n",
       "      <th></th>\n",
       "      <th>business_id</th>\n",
       "      <th>date</th>\n",
       "      <th>review_id</th>\n",
       "      <th>stars</th>\n",
       "      <th>text</th>\n",
       "      <th>user_id</th>\n",
       "      <th>attributes</th>\n",
       "      <th>categories</th>\n",
       "      <th>city</th>\n",
       "      <th>name</th>\n",
       "      <th>restaurant_rating</th>\n",
       "      <th>average_stars</th>\n",
       "    </tr>\n",
       "  </thead>\n",
       "  <tbody>\n",
       "    <tr>\n",
       "      <th>0</th>\n",
       "      <td>u8C8pRvaHXg3PgDrsUHJHQ</td>\n",
       "      <td>2004-10-19 19:24:13</td>\n",
       "      <td>0QHCY_55TFHHvyumEMpDew</td>\n",
       "      <td>4.0</td>\n",
       "      <td>Good stuff. Pricey by normal pizza standards.</td>\n",
       "      <td>nkN_do3fJ9xekchVC-v68A</td>\n",
       "      <td>{'GoodForKids': 'True', 'BikeParking': 'True',...</td>\n",
       "      <td>Food Delivery Services, Salad, Restaurants, Fo...</td>\n",
       "      <td>Champaign</td>\n",
       "      <td>Papa Del's Pizza</td>\n",
       "      <td>3.5</td>\n",
       "      <td>3.7</td>\n",
       "    </tr>\n",
       "    <tr>\n",
       "      <th>1</th>\n",
       "      <td>EZOoB2D8uQHV_gJoGCMTxQ</td>\n",
       "      <td>2004-10-19 21:33:08</td>\n",
       "      <td>1Iobyi_7BkFON25Oegs0aw</td>\n",
       "      <td>4.0</td>\n",
       "      <td>Love their subs. Cheap and top shelf ingredients.</td>\n",
       "      <td>nkN_do3fJ9xekchVC-v68A</td>\n",
       "      <td>{'GoodForKids': 'True', 'BikeParking': 'True',...</td>\n",
       "      <td>Restaurants, American (Traditional), Food, Del...</td>\n",
       "      <td>Champaign</td>\n",
       "      <td>Jimmy John's</td>\n",
       "      <td>3.0</td>\n",
       "      <td>3.7</td>\n",
       "    </tr>\n",
       "    <tr>\n",
       "      <th>2</th>\n",
       "      <td>oYMsq2Xvzw6UbrIlMWjb-A</td>\n",
       "      <td>2004-10-19 21:34:40</td>\n",
       "      <td>2F5J51OYtD49eyIUKJKVgg</td>\n",
       "      <td>4.0</td>\n",
       "      <td>Love their pizza. They used to have a great ta...</td>\n",
       "      <td>nkN_do3fJ9xekchVC-v68A</td>\n",
       "      <td>{'HasTV': 'False', 'Alcohol': \"u'none'\", 'Rest...</td>\n",
       "      <td>Restaurants, Pizza</td>\n",
       "      <td>Champaign</td>\n",
       "      <td>Papa John's Pizza</td>\n",
       "      <td>2.5</td>\n",
       "      <td>3.7</td>\n",
       "    </tr>\n",
       "    <tr>\n",
       "      <th>3</th>\n",
       "      <td>-FLnsWAa4AGEW4NgE8Fqew</td>\n",
       "      <td>2009-03-15 20:38:02</td>\n",
       "      <td>lwln20Y19e78B2Pn-nxCVw</td>\n",
       "      <td>3.0</td>\n",
       "      <td>An okay breakfast spot.\\n\\nThe good news? If y...</td>\n",
       "      <td>nkN_do3fJ9xekchVC-v68A</td>\n",
       "      <td>{'RestaurantsGoodForGroups': 'True', 'Corkage'...</td>\n",
       "      <td>Coffee &amp; Tea, Turkish, American (Traditional),...</td>\n",
       "      <td>Scottsdale</td>\n",
       "      <td>Breakfast Club- Scottsdale</td>\n",
       "      <td>4.0</td>\n",
       "      <td>3.7</td>\n",
       "    </tr>\n",
       "    <tr>\n",
       "      <th>4</th>\n",
       "      <td>rtlsfmdufArhk-47sWIf2w</td>\n",
       "      <td>2013-04-27 00:49:49</td>\n",
       "      <td>q4PwVSBgR-DAJyxWO4hHZA</td>\n",
       "      <td>4.0</td>\n",
       "      <td>A surprisingly intimate restaurant in the Bell...</td>\n",
       "      <td>nkN_do3fJ9xekchVC-v68A</td>\n",
       "      <td>{'RestaurantsTakeOut': 'False', 'OutdoorSeatin...</td>\n",
       "      <td>French, Restaurants</td>\n",
       "      <td>Las Vegas</td>\n",
       "      <td>Le Cirque</td>\n",
       "      <td>4.5</td>\n",
       "      <td>3.7</td>\n",
       "    </tr>\n",
       "  </tbody>\n",
       "</table>\n",
       "</div>"
      ],
      "text/plain": [
       "              business_id                 date               review_id  stars  \\\n",
       "0  u8C8pRvaHXg3PgDrsUHJHQ  2004-10-19 19:24:13  0QHCY_55TFHHvyumEMpDew    4.0   \n",
       "1  EZOoB2D8uQHV_gJoGCMTxQ  2004-10-19 21:33:08  1Iobyi_7BkFON25Oegs0aw    4.0   \n",
       "2  oYMsq2Xvzw6UbrIlMWjb-A  2004-10-19 21:34:40  2F5J51OYtD49eyIUKJKVgg    4.0   \n",
       "3  -FLnsWAa4AGEW4NgE8Fqew  2009-03-15 20:38:02  lwln20Y19e78B2Pn-nxCVw    3.0   \n",
       "4  rtlsfmdufArhk-47sWIf2w  2013-04-27 00:49:49  q4PwVSBgR-DAJyxWO4hHZA    4.0   \n",
       "\n",
       "                                                text                 user_id  \\\n",
       "0      Good stuff. Pricey by normal pizza standards.  nkN_do3fJ9xekchVC-v68A   \n",
       "1  Love their subs. Cheap and top shelf ingredients.  nkN_do3fJ9xekchVC-v68A   \n",
       "2  Love their pizza. They used to have a great ta...  nkN_do3fJ9xekchVC-v68A   \n",
       "3  An okay breakfast spot.\\n\\nThe good news? If y...  nkN_do3fJ9xekchVC-v68A   \n",
       "4  A surprisingly intimate restaurant in the Bell...  nkN_do3fJ9xekchVC-v68A   \n",
       "\n",
       "                                          attributes  \\\n",
       "0  {'GoodForKids': 'True', 'BikeParking': 'True',...   \n",
       "1  {'GoodForKids': 'True', 'BikeParking': 'True',...   \n",
       "2  {'HasTV': 'False', 'Alcohol': \"u'none'\", 'Rest...   \n",
       "3  {'RestaurantsGoodForGroups': 'True', 'Corkage'...   \n",
       "4  {'RestaurantsTakeOut': 'False', 'OutdoorSeatin...   \n",
       "\n",
       "                                          categories        city  \\\n",
       "0  Food Delivery Services, Salad, Restaurants, Fo...   Champaign   \n",
       "1  Restaurants, American (Traditional), Food, Del...   Champaign   \n",
       "2                                 Restaurants, Pizza   Champaign   \n",
       "3  Coffee & Tea, Turkish, American (Traditional),...  Scottsdale   \n",
       "4                                French, Restaurants   Las Vegas   \n",
       "\n",
       "                         name  restaurant_rating  average_stars  \n",
       "0            Papa Del's Pizza                3.5            3.7  \n",
       "1                Jimmy John's                3.0            3.7  \n",
       "2           Papa John's Pizza                2.5            3.7  \n",
       "3  Breakfast Club- Scottsdale                4.0            3.7  \n",
       "4                   Le Cirque                4.5            3.7  "
      ]
     },
     "execution_count": 2,
     "metadata": {},
     "output_type": "execute_result"
    }
   ],
   "source": [
    "final_dataFrame =  pd.read_csv(\"/Users/saranggrover/Desktop/yelp-dataset/final_merged_data.csv\")\n",
    "final_dataFrame.head()"
   ]
  },
  {
   "cell_type": "code",
   "execution_count": 6,
   "metadata": {},
   "outputs": [],
   "source": [
    "#Splitting data into train, validate and test\n",
    "x_train, x_test, y_train, y_test = train_test_split(final_dataFrame.drop(columns=[\"stars\"], axis=1), final_dataFrame[\"stars\"].values, stratify=final_dataFrame[\"user_id\"].values, test_size=0.20, random_state=8)"
   ]
  },
  {
   "cell_type": "code",
   "execution_count": 7,
   "metadata": {},
   "outputs": [],
   "source": [
    "x_train, x_val, y_train, y_val = train_test_split(x_train, y_train, \n",
    "                                                  stratify=x_train['user_id'], test_size=0.20, random_state=8)"
   ]
  },
  {
   "cell_type": "code",
   "execution_count": 25,
   "metadata": {},
   "outputs": [],
   "source": [
    "x_train['stars'] = y_train"
   ]
  },
  {
   "cell_type": "code",
   "execution_count": 26,
   "metadata": {},
   "outputs": [],
   "source": [
    "x_train.to_csv(\"/Users/saranggrover/Desktop/yelp-dataset/train.csv\", index=False)"
   ]
  },
  {
   "cell_type": "code",
   "execution_count": 27,
   "metadata": {},
   "outputs": [],
   "source": [
    "x_val['stars'] = y_val"
   ]
  },
  {
   "cell_type": "code",
   "execution_count": 28,
   "metadata": {},
   "outputs": [],
   "source": [
    "x_val.to_csv(\"/Users/saranggrover/Desktop/yelp-dataset/validation.csv\", index=False)"
   ]
  },
  {
   "cell_type": "code",
   "execution_count": 31,
   "metadata": {},
   "outputs": [],
   "source": [
    "x_test['stars'] = y_test"
   ]
  },
  {
   "cell_type": "code",
   "execution_count": 32,
   "metadata": {},
   "outputs": [],
   "source": [
    "x_test.to_csv(\"/Users/saranggrover/Desktop/yelp-dataset/test.csv\", index=False)"
   ]
  },
  {
   "cell_type": "code",
   "execution_count": null,
   "metadata": {},
   "outputs": [],
   "source": []
  }
 ],
 "metadata": {
  "kernelspec": {
   "display_name": "Python 3",
   "language": "python",
   "name": "python3"
  },
  "language_info": {
   "codemirror_mode": {
    "name": "ipython",
    "version": 3
   },
   "file_extension": ".py",
   "mimetype": "text/x-python",
   "name": "python",
   "nbconvert_exporter": "python",
   "pygments_lexer": "ipython3",
   "version": "3.6.5"
  }
 },
 "nbformat": 4,
 "nbformat_minor": 2
}
